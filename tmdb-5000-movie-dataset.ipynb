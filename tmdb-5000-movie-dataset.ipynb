{
 "cells": [
  {
   "cell_type": "code",
   "execution_count": 1,
   "id": "aa5af8a2",
   "metadata": {
    "_cell_guid": "b1076dfc-b9ad-4769-8c92-a6c4dae69d19",
    "_uuid": "8f2839f25d086af736a60e9eeb907d3b93b6e0e5",
    "execution": {
     "iopub.execute_input": "2022-03-22T23:59:16.507659Z",
     "iopub.status.busy": "2022-03-22T23:59:16.507180Z",
     "iopub.status.idle": "2022-03-22T23:59:16.523149Z",
     "shell.execute_reply": "2022-03-22T23:59:16.522529Z",
     "shell.execute_reply.started": "2022-03-22T23:17:41.425432Z"
    },
    "papermill": {
     "duration": 0.067425,
     "end_time": "2022-03-22T23:59:16.523290",
     "exception": false,
     "start_time": "2022-03-22T23:59:16.455865",
     "status": "completed"
    },
    "tags": []
   },
   "outputs": [
    {
     "name": "stdout",
     "output_type": "stream",
     "text": [
      "/kaggle/input/tmdb-movie-metadata/tmdb_5000_movies.csv\n",
      "/kaggle/input/tmdb-movie-metadata/tmdb_5000_credits.csv\n"
     ]
    }
   ],
   "source": [
    "# This Python 3 environment comes with many helpful analytics libraries installed\n",
    "# It is defined by the kaggle/python Docker image: https://github.com/kaggle/docker-python\n",
    "# For example, here's several helpful packages to load\n",
    "\n",
    "\n",
    "import pandas as pd # data processing, CSV file I/O (e.g. pd.read_csv)\n",
    "\n",
    "\n",
    "# Input data files are available in the read-only \"../input/\" directory\n",
    "# For example, running this (by clicking run or pressing Shift+Enter) will list all files under the input directory\n",
    "\n",
    "import os\n",
    "for dirname, _, filenames in os.walk('/kaggle/input'):\n",
    "    for filename in filenames:\n",
    "        print(os.path.join(dirname, filename))\n",
    "\n",
    "# You can write up to 20GB to the current directory (/kaggle/working/) that gets preserved as output when you create a version using \"Save & Run All\" \n",
    "# You can also write temporary files to /kaggle/temp/, but they won't be saved outside of the current session"
   ]
  },
  {
   "cell_type": "code",
   "execution_count": 2,
   "id": "6c694e39",
   "metadata": {
    "execution": {
     "iopub.execute_input": "2022-03-22T23:59:16.614497Z",
     "iopub.status.busy": "2022-03-22T23:59:16.613869Z",
     "iopub.status.idle": "2022-03-22T23:59:17.590370Z",
     "shell.execute_reply": "2022-03-22T23:59:17.589796Z",
     "shell.execute_reply.started": "2022-03-22T23:17:42.585506Z"
    },
    "papermill": {
     "duration": 1.022597,
     "end_time": "2022-03-22T23:59:17.590498",
     "exception": false,
     "start_time": "2022-03-22T23:59:16.567901",
     "status": "completed"
    },
    "tags": []
   },
   "outputs": [],
   "source": [
    "import numpy as np # linear algebra\n",
    "import matplotlib.pyplot as plt # for platting graph\n",
    "%matplotlib inline\n",
    "import seaborn as sns # for data visulization\n",
    "import warnings # to ignore any warnings\n",
    "warnings.filterwarnings(\"ignore\")\n",
    "import json\n",
    "import datetime"
   ]
  },
  {
   "cell_type": "markdown",
   "id": "f5843045",
   "metadata": {
    "papermill": {
     "duration": 0.040137,
     "end_time": "2022-03-22T23:59:17.671613",
     "exception": false,
     "start_time": "2022-03-22T23:59:17.631476",
     "status": "completed"
    },
    "tags": []
   },
   "source": [
    "Expectation from the Notebook\n",
    "\n",
    "This notebook is divided into the following sections:\n",
    "\n",
    "    1).Introduction to the problem\n",
    "\n",
    "    2).Exploratory Data Analysis (EDA) and PreProcessing\n",
    "\n",
    "    3).Model building and Feature engineering\n",
    "\n",
    "Let’s look at the steps that we will follow in this notebook.\n",
    "\n",
    "    1).Problem Statement\n",
    "\n",
    "    2).Hypothesis Generation\n",
    "\n",
    "    3). Getting the system ready and loading the data\n",
    "\n",
    "    4).Understanding the data\n",
    "\n",
    "    5).Exploratory Data Analysis (EDA)\n",
    "        i).Univariate Analysis\n",
    "        ii).Bivariate Analysis\n",
    "\n",
    "    6).Missing value and outlier treatment\n",
    "\n",
    "    7).Evaluation Metrics for classification problems\n",
    "\n",
    "    8).Model Building : Part I\n",
    "\n",
    "    9).Logistic Regression using stratified k-folds cross validation\n",
    "\n",
    "    10).Feature Engineering\n",
    "\n",
    "    11).Model Building : Part II\n",
    "        1).Logistic Regression\n",
    "        2).Decision tree\n",
    "        3).Random Forest\n",
    "\n",
    "Lets look at each section in detail.\n"
   ]
  },
  {
   "cell_type": "code",
   "execution_count": 3,
   "id": "986ef0ac",
   "metadata": {
    "execution": {
     "iopub.execute_input": "2022-03-22T23:59:17.764238Z",
     "iopub.status.busy": "2022-03-22T23:59:17.763569Z",
     "iopub.status.idle": "2022-03-22T23:59:18.808379Z",
     "shell.execute_reply": "2022-03-22T23:59:18.807870Z",
     "shell.execute_reply.started": "2022-03-22T23:17:45.697094Z"
    },
    "papermill": {
     "duration": 1.093169,
     "end_time": "2022-03-22T23:59:18.808518",
     "exception": false,
     "start_time": "2022-03-22T23:59:17.715349",
     "status": "completed"
    },
    "tags": []
   },
   "outputs": [],
   "source": [
    "movies = pd.read_csv(\"/kaggle/input/tmdb-movie-metadata/tmdb_5000_movies.csv\")\n",
    "credits = pd.read_csv(\"/kaggle/input/tmdb-movie-metadata/tmdb_5000_credits.csv\")"
   ]
  },
  {
   "cell_type": "code",
   "execution_count": 4,
   "id": "9f05fdd4",
   "metadata": {
    "execution": {
     "iopub.execute_input": "2022-03-22T23:59:18.892244Z",
     "iopub.status.busy": "2022-03-22T23:59:18.891760Z",
     "iopub.status.idle": "2022-03-22T23:59:18.923131Z",
     "shell.execute_reply": "2022-03-22T23:59:18.922465Z",
     "shell.execute_reply.started": "2022-03-22T23:17:47.865236Z"
    },
    "papermill": {
     "duration": 0.073998,
     "end_time": "2022-03-22T23:59:18.923291",
     "exception": false,
     "start_time": "2022-03-22T23:59:18.849293",
     "status": "completed"
    },
    "tags": []
   },
   "outputs": [
    {
     "data": {
      "text/html": [
       "<div>\n",
       "<style scoped>\n",
       "    .dataframe tbody tr th:only-of-type {\n",
       "        vertical-align: middle;\n",
       "    }\n",
       "\n",
       "    .dataframe tbody tr th {\n",
       "        vertical-align: top;\n",
       "    }\n",
       "\n",
       "    .dataframe thead th {\n",
       "        text-align: right;\n",
       "    }\n",
       "</style>\n",
       "<table border=\"1\" class=\"dataframe\">\n",
       "  <thead>\n",
       "    <tr style=\"text-align: right;\">\n",
       "      <th></th>\n",
       "      <th>budget</th>\n",
       "      <th>genres</th>\n",
       "      <th>homepage</th>\n",
       "      <th>id</th>\n",
       "      <th>keywords</th>\n",
       "      <th>original_language</th>\n",
       "      <th>original_title</th>\n",
       "      <th>overview</th>\n",
       "      <th>popularity</th>\n",
       "      <th>production_companies</th>\n",
       "      <th>production_countries</th>\n",
       "      <th>release_date</th>\n",
       "      <th>revenue</th>\n",
       "      <th>runtime</th>\n",
       "      <th>spoken_languages</th>\n",
       "      <th>status</th>\n",
       "      <th>tagline</th>\n",
       "      <th>title</th>\n",
       "      <th>vote_average</th>\n",
       "      <th>vote_count</th>\n",
       "    </tr>\n",
       "  </thead>\n",
       "  <tbody>\n",
       "    <tr>\n",
       "      <th>0</th>\n",
       "      <td>237000000</td>\n",
       "      <td>[{\"id\": 28, \"name\": \"Action\"}, {\"id\": 12, \"nam...</td>\n",
       "      <td>http://www.avatarmovie.com/</td>\n",
       "      <td>19995</td>\n",
       "      <td>[{\"id\": 1463, \"name\": \"culture clash\"}, {\"id\":...</td>\n",
       "      <td>en</td>\n",
       "      <td>Avatar</td>\n",
       "      <td>In the 22nd century, a paraplegic Marine is di...</td>\n",
       "      <td>150.437577</td>\n",
       "      <td>[{\"name\": \"Ingenious Film Partners\", \"id\": 289...</td>\n",
       "      <td>[{\"iso_3166_1\": \"US\", \"name\": \"United States o...</td>\n",
       "      <td>2009-12-10</td>\n",
       "      <td>2787965087</td>\n",
       "      <td>162.0</td>\n",
       "      <td>[{\"iso_639_1\": \"en\", \"name\": \"English\"}, {\"iso...</td>\n",
       "      <td>Released</td>\n",
       "      <td>Enter the World of Pandora.</td>\n",
       "      <td>Avatar</td>\n",
       "      <td>7.2</td>\n",
       "      <td>11800</td>\n",
       "    </tr>\n",
       "    <tr>\n",
       "      <th>1</th>\n",
       "      <td>300000000</td>\n",
       "      <td>[{\"id\": 12, \"name\": \"Adventure\"}, {\"id\": 14, \"...</td>\n",
       "      <td>http://disney.go.com/disneypictures/pirates/</td>\n",
       "      <td>285</td>\n",
       "      <td>[{\"id\": 270, \"name\": \"ocean\"}, {\"id\": 726, \"na...</td>\n",
       "      <td>en</td>\n",
       "      <td>Pirates of the Caribbean: At World's End</td>\n",
       "      <td>Captain Barbossa, long believed to be dead, ha...</td>\n",
       "      <td>139.082615</td>\n",
       "      <td>[{\"name\": \"Walt Disney Pictures\", \"id\": 2}, {\"...</td>\n",
       "      <td>[{\"iso_3166_1\": \"US\", \"name\": \"United States o...</td>\n",
       "      <td>2007-05-19</td>\n",
       "      <td>961000000</td>\n",
       "      <td>169.0</td>\n",
       "      <td>[{\"iso_639_1\": \"en\", \"name\": \"English\"}]</td>\n",
       "      <td>Released</td>\n",
       "      <td>At the end of the world, the adventure begins.</td>\n",
       "      <td>Pirates of the Caribbean: At World's End</td>\n",
       "      <td>6.9</td>\n",
       "      <td>4500</td>\n",
       "    </tr>\n",
       "    <tr>\n",
       "      <th>2</th>\n",
       "      <td>245000000</td>\n",
       "      <td>[{\"id\": 28, \"name\": \"Action\"}, {\"id\": 12, \"nam...</td>\n",
       "      <td>http://www.sonypictures.com/movies/spectre/</td>\n",
       "      <td>206647</td>\n",
       "      <td>[{\"id\": 470, \"name\": \"spy\"}, {\"id\": 818, \"name...</td>\n",
       "      <td>en</td>\n",
       "      <td>Spectre</td>\n",
       "      <td>A cryptic message from Bond’s past sends him o...</td>\n",
       "      <td>107.376788</td>\n",
       "      <td>[{\"name\": \"Columbia Pictures\", \"id\": 5}, {\"nam...</td>\n",
       "      <td>[{\"iso_3166_1\": \"GB\", \"name\": \"United Kingdom\"...</td>\n",
       "      <td>2015-10-26</td>\n",
       "      <td>880674609</td>\n",
       "      <td>148.0</td>\n",
       "      <td>[{\"iso_639_1\": \"fr\", \"name\": \"Fran\\u00e7ais\"},...</td>\n",
       "      <td>Released</td>\n",
       "      <td>A Plan No One Escapes</td>\n",
       "      <td>Spectre</td>\n",
       "      <td>6.3</td>\n",
       "      <td>4466</td>\n",
       "    </tr>\n",
       "    <tr>\n",
       "      <th>3</th>\n",
       "      <td>250000000</td>\n",
       "      <td>[{\"id\": 28, \"name\": \"Action\"}, {\"id\": 80, \"nam...</td>\n",
       "      <td>http://www.thedarkknightrises.com/</td>\n",
       "      <td>49026</td>\n",
       "      <td>[{\"id\": 849, \"name\": \"dc comics\"}, {\"id\": 853,...</td>\n",
       "      <td>en</td>\n",
       "      <td>The Dark Knight Rises</td>\n",
       "      <td>Following the death of District Attorney Harve...</td>\n",
       "      <td>112.312950</td>\n",
       "      <td>[{\"name\": \"Legendary Pictures\", \"id\": 923}, {\"...</td>\n",
       "      <td>[{\"iso_3166_1\": \"US\", \"name\": \"United States o...</td>\n",
       "      <td>2012-07-16</td>\n",
       "      <td>1084939099</td>\n",
       "      <td>165.0</td>\n",
       "      <td>[{\"iso_639_1\": \"en\", \"name\": \"English\"}]</td>\n",
       "      <td>Released</td>\n",
       "      <td>The Legend Ends</td>\n",
       "      <td>The Dark Knight Rises</td>\n",
       "      <td>7.6</td>\n",
       "      <td>9106</td>\n",
       "    </tr>\n",
       "    <tr>\n",
       "      <th>4</th>\n",
       "      <td>260000000</td>\n",
       "      <td>[{\"id\": 28, \"name\": \"Action\"}, {\"id\": 12, \"nam...</td>\n",
       "      <td>http://movies.disney.com/john-carter</td>\n",
       "      <td>49529</td>\n",
       "      <td>[{\"id\": 818, \"name\": \"based on novel\"}, {\"id\":...</td>\n",
       "      <td>en</td>\n",
       "      <td>John Carter</td>\n",
       "      <td>John Carter is a war-weary, former military ca...</td>\n",
       "      <td>43.926995</td>\n",
       "      <td>[{\"name\": \"Walt Disney Pictures\", \"id\": 2}]</td>\n",
       "      <td>[{\"iso_3166_1\": \"US\", \"name\": \"United States o...</td>\n",
       "      <td>2012-03-07</td>\n",
       "      <td>284139100</td>\n",
       "      <td>132.0</td>\n",
       "      <td>[{\"iso_639_1\": \"en\", \"name\": \"English\"}]</td>\n",
       "      <td>Released</td>\n",
       "      <td>Lost in our world, found in another.</td>\n",
       "      <td>John Carter</td>\n",
       "      <td>6.1</td>\n",
       "      <td>2124</td>\n",
       "    </tr>\n",
       "  </tbody>\n",
       "</table>\n",
       "</div>"
      ],
      "text/plain": [
       "      budget                                             genres  \\\n",
       "0  237000000  [{\"id\": 28, \"name\": \"Action\"}, {\"id\": 12, \"nam...   \n",
       "1  300000000  [{\"id\": 12, \"name\": \"Adventure\"}, {\"id\": 14, \"...   \n",
       "2  245000000  [{\"id\": 28, \"name\": \"Action\"}, {\"id\": 12, \"nam...   \n",
       "3  250000000  [{\"id\": 28, \"name\": \"Action\"}, {\"id\": 80, \"nam...   \n",
       "4  260000000  [{\"id\": 28, \"name\": \"Action\"}, {\"id\": 12, \"nam...   \n",
       "\n",
       "                                       homepage      id  \\\n",
       "0                   http://www.avatarmovie.com/   19995   \n",
       "1  http://disney.go.com/disneypictures/pirates/     285   \n",
       "2   http://www.sonypictures.com/movies/spectre/  206647   \n",
       "3            http://www.thedarkknightrises.com/   49026   \n",
       "4          http://movies.disney.com/john-carter   49529   \n",
       "\n",
       "                                            keywords original_language  \\\n",
       "0  [{\"id\": 1463, \"name\": \"culture clash\"}, {\"id\":...                en   \n",
       "1  [{\"id\": 270, \"name\": \"ocean\"}, {\"id\": 726, \"na...                en   \n",
       "2  [{\"id\": 470, \"name\": \"spy\"}, {\"id\": 818, \"name...                en   \n",
       "3  [{\"id\": 849, \"name\": \"dc comics\"}, {\"id\": 853,...                en   \n",
       "4  [{\"id\": 818, \"name\": \"based on novel\"}, {\"id\":...                en   \n",
       "\n",
       "                             original_title  \\\n",
       "0                                    Avatar   \n",
       "1  Pirates of the Caribbean: At World's End   \n",
       "2                                   Spectre   \n",
       "3                     The Dark Knight Rises   \n",
       "4                               John Carter   \n",
       "\n",
       "                                            overview  popularity  \\\n",
       "0  In the 22nd century, a paraplegic Marine is di...  150.437577   \n",
       "1  Captain Barbossa, long believed to be dead, ha...  139.082615   \n",
       "2  A cryptic message from Bond’s past sends him o...  107.376788   \n",
       "3  Following the death of District Attorney Harve...  112.312950   \n",
       "4  John Carter is a war-weary, former military ca...   43.926995   \n",
       "\n",
       "                                production_companies  \\\n",
       "0  [{\"name\": \"Ingenious Film Partners\", \"id\": 289...   \n",
       "1  [{\"name\": \"Walt Disney Pictures\", \"id\": 2}, {\"...   \n",
       "2  [{\"name\": \"Columbia Pictures\", \"id\": 5}, {\"nam...   \n",
       "3  [{\"name\": \"Legendary Pictures\", \"id\": 923}, {\"...   \n",
       "4        [{\"name\": \"Walt Disney Pictures\", \"id\": 2}]   \n",
       "\n",
       "                                production_countries release_date     revenue  \\\n",
       "0  [{\"iso_3166_1\": \"US\", \"name\": \"United States o...   2009-12-10  2787965087   \n",
       "1  [{\"iso_3166_1\": \"US\", \"name\": \"United States o...   2007-05-19   961000000   \n",
       "2  [{\"iso_3166_1\": \"GB\", \"name\": \"United Kingdom\"...   2015-10-26   880674609   \n",
       "3  [{\"iso_3166_1\": \"US\", \"name\": \"United States o...   2012-07-16  1084939099   \n",
       "4  [{\"iso_3166_1\": \"US\", \"name\": \"United States o...   2012-03-07   284139100   \n",
       "\n",
       "   runtime                                   spoken_languages    status  \\\n",
       "0    162.0  [{\"iso_639_1\": \"en\", \"name\": \"English\"}, {\"iso...  Released   \n",
       "1    169.0           [{\"iso_639_1\": \"en\", \"name\": \"English\"}]  Released   \n",
       "2    148.0  [{\"iso_639_1\": \"fr\", \"name\": \"Fran\\u00e7ais\"},...  Released   \n",
       "3    165.0           [{\"iso_639_1\": \"en\", \"name\": \"English\"}]  Released   \n",
       "4    132.0           [{\"iso_639_1\": \"en\", \"name\": \"English\"}]  Released   \n",
       "\n",
       "                                          tagline  \\\n",
       "0                     Enter the World of Pandora.   \n",
       "1  At the end of the world, the adventure begins.   \n",
       "2                           A Plan No One Escapes   \n",
       "3                                 The Legend Ends   \n",
       "4            Lost in our world, found in another.   \n",
       "\n",
       "                                      title  vote_average  vote_count  \n",
       "0                                    Avatar           7.2       11800  \n",
       "1  Pirates of the Caribbean: At World's End           6.9        4500  \n",
       "2                                   Spectre           6.3        4466  \n",
       "3                     The Dark Knight Rises           7.6        9106  \n",
       "4                               John Carter           6.1        2124  "
      ]
     },
     "execution_count": 4,
     "metadata": {},
     "output_type": "execute_result"
    }
   ],
   "source": [
    "movies.head(5)"
   ]
  },
  {
   "cell_type": "code",
   "execution_count": 5,
   "id": "eab9d7d0",
   "metadata": {
    "execution": {
     "iopub.execute_input": "2022-03-22T23:59:19.061842Z",
     "iopub.status.busy": "2022-03-22T23:59:19.061034Z",
     "iopub.status.idle": "2022-03-22T23:59:19.064069Z",
     "shell.execute_reply": "2022-03-22T23:59:19.064599Z",
     "shell.execute_reply.started": "2022-03-22T23:17:49.256593Z"
    },
    "papermill": {
     "duration": 0.076962,
     "end_time": "2022-03-22T23:59:19.064828",
     "exception": false,
     "start_time": "2022-03-22T23:59:18.987866",
     "status": "completed"
    },
    "tags": []
   },
   "outputs": [
    {
     "data": {
      "text/html": [
       "<div>\n",
       "<style scoped>\n",
       "    .dataframe tbody tr th:only-of-type {\n",
       "        vertical-align: middle;\n",
       "    }\n",
       "\n",
       "    .dataframe tbody tr th {\n",
       "        vertical-align: top;\n",
       "    }\n",
       "\n",
       "    .dataframe thead th {\n",
       "        text-align: right;\n",
       "    }\n",
       "</style>\n",
       "<table border=\"1\" class=\"dataframe\">\n",
       "  <thead>\n",
       "    <tr style=\"text-align: right;\">\n",
       "      <th></th>\n",
       "      <th>movie_id</th>\n",
       "      <th>title</th>\n",
       "      <th>cast</th>\n",
       "      <th>crew</th>\n",
       "    </tr>\n",
       "  </thead>\n",
       "  <tbody>\n",
       "    <tr>\n",
       "      <th>0</th>\n",
       "      <td>19995</td>\n",
       "      <td>Avatar</td>\n",
       "      <td>[{\"cast_id\": 242, \"character\": \"Jake Sully\", \"...</td>\n",
       "      <td>[{\"credit_id\": \"52fe48009251416c750aca23\", \"de...</td>\n",
       "    </tr>\n",
       "    <tr>\n",
       "      <th>1</th>\n",
       "      <td>285</td>\n",
       "      <td>Pirates of the Caribbean: At World's End</td>\n",
       "      <td>[{\"cast_id\": 4, \"character\": \"Captain Jack Spa...</td>\n",
       "      <td>[{\"credit_id\": \"52fe4232c3a36847f800b579\", \"de...</td>\n",
       "    </tr>\n",
       "    <tr>\n",
       "      <th>2</th>\n",
       "      <td>206647</td>\n",
       "      <td>Spectre</td>\n",
       "      <td>[{\"cast_id\": 1, \"character\": \"James Bond\", \"cr...</td>\n",
       "      <td>[{\"credit_id\": \"54805967c3a36829b5002c41\", \"de...</td>\n",
       "    </tr>\n",
       "    <tr>\n",
       "      <th>3</th>\n",
       "      <td>49026</td>\n",
       "      <td>The Dark Knight Rises</td>\n",
       "      <td>[{\"cast_id\": 2, \"character\": \"Bruce Wayne / Ba...</td>\n",
       "      <td>[{\"credit_id\": \"52fe4781c3a36847f81398c3\", \"de...</td>\n",
       "    </tr>\n",
       "    <tr>\n",
       "      <th>4</th>\n",
       "      <td>49529</td>\n",
       "      <td>John Carter</td>\n",
       "      <td>[{\"cast_id\": 5, \"character\": \"John Carter\", \"c...</td>\n",
       "      <td>[{\"credit_id\": \"52fe479ac3a36847f813eaa3\", \"de...</td>\n",
       "    </tr>\n",
       "  </tbody>\n",
       "</table>\n",
       "</div>"
      ],
      "text/plain": [
       "   movie_id                                     title  \\\n",
       "0     19995                                    Avatar   \n",
       "1       285  Pirates of the Caribbean: At World's End   \n",
       "2    206647                                   Spectre   \n",
       "3     49026                     The Dark Knight Rises   \n",
       "4     49529                               John Carter   \n",
       "\n",
       "                                                cast  \\\n",
       "0  [{\"cast_id\": 242, \"character\": \"Jake Sully\", \"...   \n",
       "1  [{\"cast_id\": 4, \"character\": \"Captain Jack Spa...   \n",
       "2  [{\"cast_id\": 1, \"character\": \"James Bond\", \"cr...   \n",
       "3  [{\"cast_id\": 2, \"character\": \"Bruce Wayne / Ba...   \n",
       "4  [{\"cast_id\": 5, \"character\": \"John Carter\", \"c...   \n",
       "\n",
       "                                                crew  \n",
       "0  [{\"credit_id\": \"52fe48009251416c750aca23\", \"de...  \n",
       "1  [{\"credit_id\": \"52fe4232c3a36847f800b579\", \"de...  \n",
       "2  [{\"credit_id\": \"54805967c3a36829b5002c41\", \"de...  \n",
       "3  [{\"credit_id\": \"52fe4781c3a36847f81398c3\", \"de...  \n",
       "4  [{\"credit_id\": \"52fe479ac3a36847f813eaa3\", \"de...  "
      ]
     },
     "execution_count": 5,
     "metadata": {},
     "output_type": "execute_result"
    }
   ],
   "source": [
    "credits.head(5)"
   ]
  },
  {
   "cell_type": "code",
   "execution_count": 6,
   "id": "8080ad9e",
   "metadata": {
    "execution": {
     "iopub.execute_input": "2022-03-22T23:59:19.198221Z",
     "iopub.status.busy": "2022-03-22T23:59:19.197510Z",
     "iopub.status.idle": "2022-03-22T23:59:19.201304Z",
     "shell.execute_reply": "2022-03-22T23:59:19.201881Z",
     "shell.execute_reply.started": "2022-03-22T23:17:50.614354Z"
    },
    "papermill": {
     "duration": 0.071466,
     "end_time": "2022-03-22T23:59:19.202051",
     "exception": false,
     "start_time": "2022-03-22T23:59:19.130585",
     "status": "completed"
    },
    "tags": []
   },
   "outputs": [
    {
     "data": {
      "text/plain": [
       "((4803, 20), (4803, 4))"
      ]
     },
     "execution_count": 6,
     "metadata": {},
     "output_type": "execute_result"
    }
   ],
   "source": [
    "movies.shape, credits.shape"
   ]
  },
  {
   "cell_type": "code",
   "execution_count": 7,
   "id": "249f4d06",
   "metadata": {
    "execution": {
     "iopub.execute_input": "2022-03-22T23:59:19.339399Z",
     "iopub.status.busy": "2022-03-22T23:59:19.335559Z",
     "iopub.status.idle": "2022-03-22T23:59:19.371734Z",
     "shell.execute_reply": "2022-03-22T23:59:19.371303Z",
     "shell.execute_reply.started": "2022-03-22T23:17:52.226097Z"
    },
    "papermill": {
     "duration": 0.104487,
     "end_time": "2022-03-22T23:59:19.371853",
     "exception": false,
     "start_time": "2022-03-22T23:59:19.267366",
     "status": "completed"
    },
    "tags": []
   },
   "outputs": [
    {
     "name": "stdout",
     "output_type": "stream",
     "text": [
      "<class 'pandas.core.frame.DataFrame'>\n",
      "RangeIndex: 4803 entries, 0 to 4802\n",
      "Data columns (total 20 columns):\n",
      " #   Column                Non-Null Count  Dtype  \n",
      "---  ------                --------------  -----  \n",
      " 0   budget                4803 non-null   int64  \n",
      " 1   genres                4803 non-null   object \n",
      " 2   homepage              1712 non-null   object \n",
      " 3   id                    4803 non-null   int64  \n",
      " 4   keywords              4803 non-null   object \n",
      " 5   original_language     4803 non-null   object \n",
      " 6   original_title        4803 non-null   object \n",
      " 7   overview              4800 non-null   object \n",
      " 8   popularity            4803 non-null   float64\n",
      " 9   production_companies  4803 non-null   object \n",
      " 10  production_countries  4803 non-null   object \n",
      " 11  release_date          4802 non-null   object \n",
      " 12  revenue               4803 non-null   int64  \n",
      " 13  runtime               4801 non-null   float64\n",
      " 14  spoken_languages      4803 non-null   object \n",
      " 15  status                4803 non-null   object \n",
      " 16  tagline               3959 non-null   object \n",
      " 17  title                 4803 non-null   object \n",
      " 18  vote_average          4803 non-null   float64\n",
      " 19  vote_count            4803 non-null   int64  \n",
      "dtypes: float64(3), int64(4), object(13)\n",
      "memory usage: 750.6+ KB\n",
      "<class 'pandas.core.frame.DataFrame'>\n",
      "RangeIndex: 4803 entries, 0 to 4802\n",
      "Data columns (total 4 columns):\n",
      " #   Column    Non-Null Count  Dtype \n",
      "---  ------    --------------  ----- \n",
      " 0   movie_id  4803 non-null   int64 \n",
      " 1   title     4803 non-null   object\n",
      " 2   cast      4803 non-null   object\n",
      " 3   crew      4803 non-null   object\n",
      "dtypes: int64(1), object(3)\n",
      "memory usage: 150.2+ KB\n"
     ]
    },
    {
     "data": {
      "text/plain": [
       "(None, None)"
      ]
     },
     "execution_count": 7,
     "metadata": {},
     "output_type": "execute_result"
    }
   ],
   "source": [
    "movies.info(), credits.info()"
   ]
  },
  {
   "cell_type": "markdown",
   "id": "46dc1097",
   "metadata": {
    "papermill": {
     "duration": 0.042858,
     "end_time": "2022-03-22T23:59:19.457432",
     "exception": false,
     "start_time": "2022-03-22T23:59:19.414574",
     "status": "completed"
    },
    "tags": []
   },
   "source": [
    "Features\n",
    "\n",
    "    •     budget: The budget of the movie in dollars.\n",
    "    •     genres: A stringified list of dictionaries that list out all the genres associated with the movie.\n",
    "    •     homepage: The Official Homepage of the move.\n",
    "    •     id: The ID of the movie.\n",
    "    •     original_language: The language in which the movie was originally shot in.\n",
    "    •     original_title: The original title of the movie.\n",
    "    •     overview: A brief blurb of the movie.\n",
    "    •     popularity: The Popularity Score assigned by TMDB.\n",
    "    •     production_companies: A stringified list of production companies involved with the making of the movie.¶\n",
    "    •     production_countries: A stringified list of countries where the movie was shot/produced in.\n",
    "    •     release_date: Theatrical Release Date of the movie.\n",
    "    •     revenue: The total revenue of the movie in dollars.\n",
    "    •     runtime: The runtime of the movie in minutes.\n",
    "    •     spoken_languages: A stringified list of spoken languages in the film.\n",
    "    •     status: The status of the movie (Released, To Be Released, Announced, etc.)\n",
    "    •     tagline: The tagline of the movie.\n",
    "    •     title: The Official Title of the movie.\n",
    "    •     vote_average: The average rating of the movie.\n",
    "    • vote_count: The number of votes by users, as counted by TMDB."
   ]
  },
  {
   "cell_type": "code",
   "execution_count": 8,
   "id": "b0d5929a",
   "metadata": {
    "execution": {
     "iopub.execute_input": "2022-03-22T23:59:19.548782Z",
     "iopub.status.busy": "2022-03-22T23:59:19.547954Z",
     "iopub.status.idle": "2022-03-22T23:59:19.553039Z",
     "shell.execute_reply": "2022-03-22T23:59:19.553542Z",
     "shell.execute_reply.started": "2022-03-22T23:17:54.966485Z"
    },
    "papermill": {
     "duration": 0.052462,
     "end_time": "2022-03-22T23:59:19.553742",
     "exception": false,
     "start_time": "2022-03-22T23:59:19.501280",
     "status": "completed"
    },
    "tags": []
   },
   "outputs": [
    {
     "data": {
      "text/plain": [
       "(Index(['budget', 'genres', 'homepage', 'id', 'keywords', 'original_language',\n",
       "        'original_title', 'overview', 'popularity', 'production_companies',\n",
       "        'production_countries', 'release_date', 'revenue', 'runtime',\n",
       "        'spoken_languages', 'status', 'tagline', 'title', 'vote_average',\n",
       "        'vote_count'],\n",
       "       dtype='object'),\n",
       " Index(['movie_id', 'title', 'cast', 'crew'], dtype='object'))"
      ]
     },
     "execution_count": 8,
     "metadata": {},
     "output_type": "execute_result"
    }
   ],
   "source": [
    "movies.columns, credits.columns"
   ]
  },
  {
   "cell_type": "code",
   "execution_count": 9,
   "id": "0498b72b",
   "metadata": {
    "execution": {
     "iopub.execute_input": "2022-03-22T23:59:19.642178Z",
     "iopub.status.busy": "2022-03-22T23:59:19.641521Z",
     "iopub.status.idle": "2022-03-22T23:59:19.670185Z",
     "shell.execute_reply": "2022-03-22T23:59:19.670783Z",
     "shell.execute_reply.started": "2022-03-22T23:17:56.216826Z"
    },
    "papermill": {
     "duration": 0.074433,
     "end_time": "2022-03-22T23:59:19.671007",
     "exception": false,
     "start_time": "2022-03-22T23:59:19.596574",
     "status": "completed"
    },
    "tags": []
   },
   "outputs": [
    {
     "data": {
      "text/html": [
       "<div>\n",
       "<style scoped>\n",
       "    .dataframe tbody tr th:only-of-type {\n",
       "        vertical-align: middle;\n",
       "    }\n",
       "\n",
       "    .dataframe tbody tr th {\n",
       "        vertical-align: top;\n",
       "    }\n",
       "\n",
       "    .dataframe thead th {\n",
       "        text-align: right;\n",
       "    }\n",
       "</style>\n",
       "<table border=\"1\" class=\"dataframe\">\n",
       "  <thead>\n",
       "    <tr style=\"text-align: right;\">\n",
       "      <th></th>\n",
       "      <th>budget</th>\n",
       "      <th>id</th>\n",
       "      <th>popularity</th>\n",
       "      <th>revenue</th>\n",
       "      <th>runtime</th>\n",
       "      <th>vote_average</th>\n",
       "      <th>vote_count</th>\n",
       "    </tr>\n",
       "  </thead>\n",
       "  <tbody>\n",
       "    <tr>\n",
       "      <th>count</th>\n",
       "      <td>4.803000e+03</td>\n",
       "      <td>4803.000000</td>\n",
       "      <td>4803.000000</td>\n",
       "      <td>4.803000e+03</td>\n",
       "      <td>4801.000000</td>\n",
       "      <td>4803.000000</td>\n",
       "      <td>4803.000000</td>\n",
       "    </tr>\n",
       "    <tr>\n",
       "      <th>mean</th>\n",
       "      <td>2.904504e+07</td>\n",
       "      <td>57165.484281</td>\n",
       "      <td>21.492301</td>\n",
       "      <td>8.226064e+07</td>\n",
       "      <td>106.875859</td>\n",
       "      <td>6.092172</td>\n",
       "      <td>690.217989</td>\n",
       "    </tr>\n",
       "    <tr>\n",
       "      <th>std</th>\n",
       "      <td>4.072239e+07</td>\n",
       "      <td>88694.614033</td>\n",
       "      <td>31.816650</td>\n",
       "      <td>1.628571e+08</td>\n",
       "      <td>22.611935</td>\n",
       "      <td>1.194612</td>\n",
       "      <td>1234.585891</td>\n",
       "    </tr>\n",
       "    <tr>\n",
       "      <th>min</th>\n",
       "      <td>0.000000e+00</td>\n",
       "      <td>5.000000</td>\n",
       "      <td>0.000000</td>\n",
       "      <td>0.000000e+00</td>\n",
       "      <td>0.000000</td>\n",
       "      <td>0.000000</td>\n",
       "      <td>0.000000</td>\n",
       "    </tr>\n",
       "    <tr>\n",
       "      <th>25%</th>\n",
       "      <td>7.900000e+05</td>\n",
       "      <td>9014.500000</td>\n",
       "      <td>4.668070</td>\n",
       "      <td>0.000000e+00</td>\n",
       "      <td>94.000000</td>\n",
       "      <td>5.600000</td>\n",
       "      <td>54.000000</td>\n",
       "    </tr>\n",
       "    <tr>\n",
       "      <th>50%</th>\n",
       "      <td>1.500000e+07</td>\n",
       "      <td>14629.000000</td>\n",
       "      <td>12.921594</td>\n",
       "      <td>1.917000e+07</td>\n",
       "      <td>103.000000</td>\n",
       "      <td>6.200000</td>\n",
       "      <td>235.000000</td>\n",
       "    </tr>\n",
       "    <tr>\n",
       "      <th>75%</th>\n",
       "      <td>4.000000e+07</td>\n",
       "      <td>58610.500000</td>\n",
       "      <td>28.313505</td>\n",
       "      <td>9.291719e+07</td>\n",
       "      <td>118.000000</td>\n",
       "      <td>6.800000</td>\n",
       "      <td>737.000000</td>\n",
       "    </tr>\n",
       "    <tr>\n",
       "      <th>max</th>\n",
       "      <td>3.800000e+08</td>\n",
       "      <td>459488.000000</td>\n",
       "      <td>875.581305</td>\n",
       "      <td>2.787965e+09</td>\n",
       "      <td>338.000000</td>\n",
       "      <td>10.000000</td>\n",
       "      <td>13752.000000</td>\n",
       "    </tr>\n",
       "  </tbody>\n",
       "</table>\n",
       "</div>"
      ],
      "text/plain": [
       "             budget             id   popularity       revenue      runtime  \\\n",
       "count  4.803000e+03    4803.000000  4803.000000  4.803000e+03  4801.000000   \n",
       "mean   2.904504e+07   57165.484281    21.492301  8.226064e+07   106.875859   \n",
       "std    4.072239e+07   88694.614033    31.816650  1.628571e+08    22.611935   \n",
       "min    0.000000e+00       5.000000     0.000000  0.000000e+00     0.000000   \n",
       "25%    7.900000e+05    9014.500000     4.668070  0.000000e+00    94.000000   \n",
       "50%    1.500000e+07   14629.000000    12.921594  1.917000e+07   103.000000   \n",
       "75%    4.000000e+07   58610.500000    28.313505  9.291719e+07   118.000000   \n",
       "max    3.800000e+08  459488.000000   875.581305  2.787965e+09   338.000000   \n",
       "\n",
       "       vote_average    vote_count  \n",
       "count   4803.000000   4803.000000  \n",
       "mean       6.092172    690.217989  \n",
       "std        1.194612   1234.585891  \n",
       "min        0.000000      0.000000  \n",
       "25%        5.600000     54.000000  \n",
       "50%        6.200000    235.000000  \n",
       "75%        6.800000    737.000000  \n",
       "max       10.000000  13752.000000  "
      ]
     },
     "execution_count": 9,
     "metadata": {},
     "output_type": "execute_result"
    }
   ],
   "source": [
    "movies.describe()"
   ]
  },
  {
   "cell_type": "markdown",
   "id": "0704b8f1",
   "metadata": {
    "papermill": {
     "duration": 0.068744,
     "end_time": "2022-03-22T23:59:19.808496",
     "exception": false,
     "start_time": "2022-03-22T23:59:19.739752",
     "status": "completed"
    },
    "tags": []
   },
   "source": [
    "Now lets look at the correlation between all the numerical variables. We will use the heat map to visualize the correlation. Heatmaps visualize data through variations in coloring. The variables with darker color means their correlation is more."
   ]
  },
  {
   "cell_type": "code",
   "execution_count": 10,
   "id": "6fa94702",
   "metadata": {
    "execution": {
     "iopub.execute_input": "2022-03-22T23:59:19.947524Z",
     "iopub.status.busy": "2022-03-22T23:59:19.946750Z",
     "iopub.status.idle": "2022-03-22T23:59:20.210458Z",
     "shell.execute_reply": "2022-03-22T23:59:20.211055Z",
     "shell.execute_reply.started": "2022-03-22T23:17:58.536636Z"
    },
    "papermill": {
     "duration": 0.334825,
     "end_time": "2022-03-22T23:59:20.211242",
     "exception": false,
     "start_time": "2022-03-22T23:59:19.876417",
     "status": "completed"
    },
    "tags": []
   },
   "outputs": [
    {
     "data": {
      "image/png": "[encoded data removed]",
      "text/plain": [
       "<Figure size 648x432 with 2 Axes>"
      ]
     },
     "metadata": {
      "needs_background": "light"
     },
     "output_type": "display_data"
    }
   ],
   "source": [
    "matrix = movies.corr() \n",
    "f, ax = plt.subplots(figsize=(9, 6)) \n",
    "sns.heatmap(matrix, vmax=.8, square=True, cmap=\"BuPu\");"
   ]
  },
  {
   "cell_type": "markdown",
   "id": "be5a7ee3",
   "metadata": {
    "papermill": {
     "duration": 0.069083,
     "end_time": "2022-03-22T23:59:20.349279",
     "exception": false,
     "start_time": "2022-03-22T23:59:20.280196",
     "status": "completed"
    },
    "tags": []
   },
   "source": [
    "We see that the most correlated variables are (budget - popularity, revenue, vote_count) runtime is also correlated with vote_average."
   ]
  },
  {
   "cell_type": "code",
   "execution_count": 11,
   "id": "095c9909",
   "metadata": {
    "execution": {
     "iopub.execute_input": "2022-03-22T23:59:20.496160Z",
     "iopub.status.busy": "2022-03-22T23:59:20.495384Z",
     "iopub.status.idle": "2022-03-22T23:59:20.501320Z",
     "shell.execute_reply": "2022-03-22T23:59:20.501689Z",
     "shell.execute_reply.started": "2022-03-22T23:18:01.376449Z"
    },
    "papermill": {
     "duration": 0.083588,
     "end_time": "2022-03-22T23:59:20.501871",
     "exception": false,
     "start_time": "2022-03-22T23:59:20.418283",
     "status": "completed"
    },
    "tags": []
   },
   "outputs": [
    {
     "data": {
      "text/plain": [
       "budget                     0\n",
       "genres                     0\n",
       "homepage                3091\n",
       "id                         0\n",
       "keywords                   0\n",
       "original_language          0\n",
       "original_title             0\n",
       "overview                   3\n",
       "popularity                 0\n",
       "production_companies       0\n",
       "production_countries       0\n",
       "release_date               1\n",
       "revenue                    0\n",
       "runtime                    2\n",
       "spoken_languages           0\n",
       "status                     0\n",
       "tagline                  844\n",
       "title                      0\n",
       "vote_average               0\n",
       "vote_count                 0\n",
       "dtype: int64"
      ]
     },
     "execution_count": 11,
     "metadata": {},
     "output_type": "execute_result"
    }
   ],
   "source": [
    "#null values\n",
    "movies.isnull().sum()"
   ]
  },
  {
   "cell_type": "markdown",
   "id": "b50927d2",
   "metadata": {
    "papermill": {
     "duration": 0.043802,
     "end_time": "2022-03-22T23:59:20.590329",
     "exception": false,
     "start_time": "2022-03-22T23:59:20.546527",
     "status": "completed"
    },
    "tags": []
   },
   "source": [
    "we are not intersted in the feature \"homepage\",\"tagline\" so we will drop them later."
   ]
  },
  {
   "cell_type": "code",
   "execution_count": 12,
   "id": "619300e9",
   "metadata": {
    "execution": {
     "iopub.execute_input": "2022-03-22T23:59:20.688529Z",
     "iopub.status.busy": "2022-03-22T23:59:20.687902Z",
     "iopub.status.idle": "2022-03-22T23:59:20.690515Z",
     "shell.execute_reply": "2022-03-22T23:59:20.691007Z",
     "shell.execute_reply.started": "2022-03-22T23:23:52.215475Z"
    },
    "papermill": {
     "duration": 0.056089,
     "end_time": "2022-03-22T23:59:20.691149",
     "exception": false,
     "start_time": "2022-03-22T23:59:20.635060",
     "status": "completed"
    },
    "tags": []
   },
   "outputs": [
    {
     "data": {
      "text/plain": [
       "movie_id    0\n",
       "title       0\n",
       "cast        0\n",
       "crew        0\n",
       "dtype: int64"
      ]
     },
     "execution_count": 12,
     "metadata": {},
     "output_type": "execute_result"
    }
   ],
   "source": [
    "credits.isnull().sum()"
   ]
  },
  {
   "cell_type": "code",
   "execution_count": 13,
   "id": "b0dd6bf2",
   "metadata": {
    "execution": {
     "iopub.execute_input": "2022-03-22T23:59:20.783800Z",
     "iopub.status.busy": "2022-03-22T23:59:20.783287Z",
     "iopub.status.idle": "2022-03-22T23:59:20.805505Z",
     "shell.execute_reply": "2022-03-22T23:59:20.804936Z",
     "shell.execute_reply.started": "2022-03-22T23:18:11.646739Z"
    },
    "papermill": {
     "duration": 0.069626,
     "end_time": "2022-03-22T23:59:20.805640",
     "exception": false,
     "start_time": "2022-03-22T23:59:20.736014",
     "status": "completed"
    },
    "tags": []
   },
   "outputs": [
    {
     "data": {
      "text/html": [
       "<div>\n",
       "<style scoped>\n",
       "    .dataframe tbody tr th:only-of-type {\n",
       "        vertical-align: middle;\n",
       "    }\n",
       "\n",
       "    .dataframe tbody tr th {\n",
       "        vertical-align: top;\n",
       "    }\n",
       "\n",
       "    .dataframe thead th {\n",
       "        text-align: right;\n",
       "    }\n",
       "</style>\n",
       "<table border=\"1\" class=\"dataframe\">\n",
       "  <thead>\n",
       "    <tr style=\"text-align: right;\">\n",
       "      <th></th>\n",
       "      <th>budget</th>\n",
       "      <th>genres</th>\n",
       "      <th>homepage</th>\n",
       "      <th>id</th>\n",
       "      <th>keywords</th>\n",
       "      <th>original_language</th>\n",
       "      <th>original_title</th>\n",
       "      <th>overview</th>\n",
       "      <th>popularity</th>\n",
       "      <th>production_companies</th>\n",
       "      <th>production_countries</th>\n",
       "      <th>release_date</th>\n",
       "      <th>revenue</th>\n",
       "      <th>runtime</th>\n",
       "      <th>spoken_languages</th>\n",
       "      <th>status</th>\n",
       "      <th>tagline</th>\n",
       "      <th>title</th>\n",
       "      <th>vote_average</th>\n",
       "      <th>vote_count</th>\n",
       "    </tr>\n",
       "  </thead>\n",
       "  <tbody>\n",
       "    <tr>\n",
       "      <th>2656</th>\n",
       "      <td>15000000</td>\n",
       "      <td>[{\"id\": 18, \"name\": \"Drama\"}]</td>\n",
       "      <td>NaN</td>\n",
       "      <td>370980</td>\n",
       "      <td>[{\"id\": 717, \"name\": \"pope\"}, {\"id\": 5565, \"na...</td>\n",
       "      <td>it</td>\n",
       "      <td>Chiamatemi Francesco - Il Papa della gente</td>\n",
       "      <td>NaN</td>\n",
       "      <td>0.738646</td>\n",
       "      <td>[{\"name\": \"Taodue Film\", \"id\": 45724}]</td>\n",
       "      <td>[{\"iso_3166_1\": \"IT\", \"name\": \"Italy\"}]</td>\n",
       "      <td>2015-12-03</td>\n",
       "      <td>0</td>\n",
       "      <td>NaN</td>\n",
       "      <td>[{\"iso_639_1\": \"es\", \"name\": \"Espa\\u00f1ol\"}]</td>\n",
       "      <td>Released</td>\n",
       "      <td>NaN</td>\n",
       "      <td>Chiamatemi Francesco - Il Papa della gente</td>\n",
       "      <td>7.3</td>\n",
       "      <td>12</td>\n",
       "    </tr>\n",
       "    <tr>\n",
       "      <th>4140</th>\n",
       "      <td>2</td>\n",
       "      <td>[{\"id\": 99, \"name\": \"Documentary\"}]</td>\n",
       "      <td>NaN</td>\n",
       "      <td>459488</td>\n",
       "      <td>[{\"id\": 6027, \"name\": \"music\"}, {\"id\": 225822,...</td>\n",
       "      <td>en</td>\n",
       "      <td>To Be Frank, Sinatra at 100</td>\n",
       "      <td>NaN</td>\n",
       "      <td>0.050625</td>\n",
       "      <td>[{\"name\": \"Eyeline Entertainment\", \"id\": 60343}]</td>\n",
       "      <td>[{\"iso_3166_1\": \"GB\", \"name\": \"United Kingdom\"}]</td>\n",
       "      <td>2015-12-12</td>\n",
       "      <td>0</td>\n",
       "      <td>NaN</td>\n",
       "      <td>[]</td>\n",
       "      <td>Released</td>\n",
       "      <td>NaN</td>\n",
       "      <td>To Be Frank, Sinatra at 100</td>\n",
       "      <td>0.0</td>\n",
       "      <td>0</td>\n",
       "    </tr>\n",
       "  </tbody>\n",
       "</table>\n",
       "</div>"
      ],
      "text/plain": [
       "        budget                               genres homepage      id  \\\n",
       "2656  15000000        [{\"id\": 18, \"name\": \"Drama\"}]      NaN  370980   \n",
       "4140         2  [{\"id\": 99, \"name\": \"Documentary\"}]      NaN  459488   \n",
       "\n",
       "                                               keywords original_language  \\\n",
       "2656  [{\"id\": 717, \"name\": \"pope\"}, {\"id\": 5565, \"na...                it   \n",
       "4140  [{\"id\": 6027, \"name\": \"music\"}, {\"id\": 225822,...                en   \n",
       "\n",
       "                                  original_title overview  popularity  \\\n",
       "2656  Chiamatemi Francesco - Il Papa della gente      NaN    0.738646   \n",
       "4140                 To Be Frank, Sinatra at 100      NaN    0.050625   \n",
       "\n",
       "                                  production_companies  \\\n",
       "2656            [{\"name\": \"Taodue Film\", \"id\": 45724}]   \n",
       "4140  [{\"name\": \"Eyeline Entertainment\", \"id\": 60343}]   \n",
       "\n",
       "                                  production_countries release_date  revenue  \\\n",
       "2656           [{\"iso_3166_1\": \"IT\", \"name\": \"Italy\"}]   2015-12-03        0   \n",
       "4140  [{\"iso_3166_1\": \"GB\", \"name\": \"United Kingdom\"}]   2015-12-12        0   \n",
       "\n",
       "      runtime                               spoken_languages    status  \\\n",
       "2656      NaN  [{\"iso_639_1\": \"es\", \"name\": \"Espa\\u00f1ol\"}]  Released   \n",
       "4140      NaN                                             []  Released   \n",
       "\n",
       "     tagline                                       title  vote_average  \\\n",
       "2656     NaN  Chiamatemi Francesco - Il Papa della gente           7.3   \n",
       "4140     NaN                 To Be Frank, Sinatra at 100           0.0   \n",
       "\n",
       "      vote_count  \n",
       "2656          12  \n",
       "4140           0  "
      ]
     },
     "execution_count": 13,
     "metadata": {},
     "output_type": "execute_result"
    }
   ],
   "source": [
    "movies.loc[movies.runtime.isnull()]"
   ]
  },
  {
   "cell_type": "code",
   "execution_count": 14,
   "id": "2568202d",
   "metadata": {
    "execution": {
     "iopub.execute_input": "2022-03-22T23:59:20.904001Z",
     "iopub.status.busy": "2022-03-22T23:59:20.903425Z",
     "iopub.status.idle": "2022-03-22T23:59:20.907116Z",
     "shell.execute_reply": "2022-03-22T23:59:20.906350Z",
     "shell.execute_reply.started": "2022-03-22T23:18:12.778111Z"
    },
    "papermill": {
     "duration": 0.055466,
     "end_time": "2022-03-22T23:59:20.907290",
     "exception": false,
     "start_time": "2022-03-22T23:59:20.851824",
     "status": "completed"
    },
    "tags": []
   },
   "outputs": [],
   "source": [
    "movies.runtime.fillna(movies.runtime.mean(),inplace=True)"
   ]
  },
  {
   "cell_type": "code",
   "execution_count": 15,
   "id": "802b2990",
   "metadata": {
    "execution": {
     "iopub.execute_input": "2022-03-22T23:59:21.001697Z",
     "iopub.status.busy": "2022-03-22T23:59:21.001206Z",
     "iopub.status.idle": "2022-03-22T23:59:21.022372Z",
     "shell.execute_reply": "2022-03-22T23:59:21.022846Z",
     "shell.execute_reply.started": "2022-03-22T23:18:14.265589Z"
    },
    "papermill": {
     "duration": 0.070266,
     "end_time": "2022-03-22T23:59:21.023069",
     "exception": false,
     "start_time": "2022-03-22T23:59:20.952803",
     "status": "completed"
    },
    "tags": []
   },
   "outputs": [
    {
     "data": {
      "text/html": [
       "<div>\n",
       "<style scoped>\n",
       "    .dataframe tbody tr th:only-of-type {\n",
       "        vertical-align: middle;\n",
       "    }\n",
       "\n",
       "    .dataframe tbody tr th {\n",
       "        vertical-align: top;\n",
       "    }\n",
       "\n",
       "    .dataframe thead th {\n",
       "        text-align: right;\n",
       "    }\n",
       "</style>\n",
       "<table border=\"1\" class=\"dataframe\">\n",
       "  <thead>\n",
       "    <tr style=\"text-align: right;\">\n",
       "      <th></th>\n",
       "      <th>budget</th>\n",
       "      <th>genres</th>\n",
       "      <th>homepage</th>\n",
       "      <th>id</th>\n",
       "      <th>keywords</th>\n",
       "      <th>original_language</th>\n",
       "      <th>original_title</th>\n",
       "      <th>overview</th>\n",
       "      <th>popularity</th>\n",
       "      <th>production_companies</th>\n",
       "      <th>production_countries</th>\n",
       "      <th>release_date</th>\n",
       "      <th>revenue</th>\n",
       "      <th>runtime</th>\n",
       "      <th>spoken_languages</th>\n",
       "      <th>status</th>\n",
       "      <th>tagline</th>\n",
       "      <th>title</th>\n",
       "      <th>vote_average</th>\n",
       "      <th>vote_count</th>\n",
       "    </tr>\n",
       "  </thead>\n",
       "  <tbody>\n",
       "    <tr>\n",
       "      <th>4553</th>\n",
       "      <td>0</td>\n",
       "      <td>[]</td>\n",
       "      <td>NaN</td>\n",
       "      <td>380097</td>\n",
       "      <td>[]</td>\n",
       "      <td>en</td>\n",
       "      <td>America Is Still the Place</td>\n",
       "      <td>1971 post civil rights San Francisco seemed li...</td>\n",
       "      <td>0.0</td>\n",
       "      <td>[]</td>\n",
       "      <td>[]</td>\n",
       "      <td>NaN</td>\n",
       "      <td>0</td>\n",
       "      <td>0.0</td>\n",
       "      <td>[]</td>\n",
       "      <td>Released</td>\n",
       "      <td>NaN</td>\n",
       "      <td>America Is Still the Place</td>\n",
       "      <td>0.0</td>\n",
       "      <td>0</td>\n",
       "    </tr>\n",
       "  </tbody>\n",
       "</table>\n",
       "</div>"
      ],
      "text/plain": [
       "      budget genres homepage      id keywords original_language  \\\n",
       "4553       0     []      NaN  380097       []                en   \n",
       "\n",
       "                  original_title  \\\n",
       "4553  America Is Still the Place   \n",
       "\n",
       "                                               overview  popularity  \\\n",
       "4553  1971 post civil rights San Francisco seemed li...         0.0   \n",
       "\n",
       "     production_companies production_countries release_date  revenue  runtime  \\\n",
       "4553                   []                   []          NaN        0      0.0   \n",
       "\n",
       "     spoken_languages    status tagline                       title  \\\n",
       "4553               []  Released     NaN  America Is Still the Place   \n",
       "\n",
       "      vote_average  vote_count  \n",
       "4553           0.0           0  "
      ]
     },
     "execution_count": 15,
     "metadata": {},
     "output_type": "execute_result"
    }
   ],
   "source": [
    "movies.loc[movies.release_date.isnull()]"
   ]
  },
  {
   "cell_type": "code",
   "execution_count": 16,
   "id": "8823fb03",
   "metadata": {
    "execution": {
     "iopub.execute_input": "2022-03-22T23:59:21.120742Z",
     "iopub.status.busy": "2022-03-22T23:59:21.120146Z",
     "iopub.status.idle": "2022-03-22T23:59:21.123571Z",
     "shell.execute_reply": "2022-03-22T23:59:21.124071Z",
     "shell.execute_reply.started": "2022-03-22T23:18:15.566191Z"
    },
    "papermill": {
     "duration": 0.055314,
     "end_time": "2022-03-22T23:59:21.124223",
     "exception": false,
     "start_time": "2022-03-22T23:59:21.068909",
     "status": "completed"
    },
    "tags": []
   },
   "outputs": [],
   "source": [
    "movies = movies.loc[movies.release_date.notnull()]"
   ]
  },
  {
   "cell_type": "markdown",
   "id": "7b5785e8",
   "metadata": {
    "papermill": {
     "duration": 0.045633,
     "end_time": "2022-03-22T23:59:21.215281",
     "exception": false,
     "start_time": "2022-03-22T23:59:21.169648",
     "status": "completed"
    },
    "tags": []
   },
   "source": [
    "Overview null values\n",
    "\n",
    "We don't really use the overview feature, but we can easily fix the null values"
   ]
  },
  {
   "cell_type": "code",
   "execution_count": 17,
   "id": "45ed5662",
   "metadata": {
    "execution": {
     "iopub.execute_input": "2022-03-22T23:59:21.312970Z",
     "iopub.status.busy": "2022-03-22T23:59:21.312471Z",
     "iopub.status.idle": "2022-03-22T23:59:21.314473Z",
     "shell.execute_reply": "2022-03-22T23:59:21.314907Z",
     "shell.execute_reply.started": "2022-03-22T23:18:19.696243Z"
    },
    "papermill": {
     "duration": 0.053508,
     "end_time": "2022-03-22T23:59:21.315050",
     "exception": false,
     "start_time": "2022-03-22T23:59:21.261542",
     "status": "completed"
    },
    "tags": []
   },
   "outputs": [],
   "source": [
    "movies.overview.fillna(\"Unsepecified\",inplace=True)"
   ]
  },
  {
   "cell_type": "markdown",
   "id": "c6e793eb",
   "metadata": {
    "papermill": {
     "duration": 0.045039,
     "end_time": "2022-03-22T23:59:21.405723",
     "exception": false,
     "start_time": "2022-03-22T23:59:21.360684",
     "status": "completed"
    },
    "tags": []
   },
   "source": [
    "## Zero values"
   ]
  },
  {
   "cell_type": "code",
   "execution_count": 18,
   "id": "ca1aef89",
   "metadata": {
    "execution": {
     "iopub.execute_input": "2022-03-22T23:59:21.501783Z",
     "iopub.status.busy": "2022-03-22T23:59:21.501238Z",
     "iopub.status.idle": "2022-03-22T23:59:21.541335Z",
     "shell.execute_reply": "2022-03-22T23:59:21.541762Z",
     "shell.execute_reply.started": "2022-03-22T23:18:21.945891Z"
    },
    "papermill": {
     "duration": 0.089622,
     "end_time": "2022-03-22T23:59:21.541924",
     "exception": false,
     "start_time": "2022-03-22T23:59:21.452302",
     "status": "completed"
    },
    "tags": []
   },
   "outputs": [
    {
     "data": {
      "text/plain": [
       "budget                  1036\n",
       "genres                     0\n",
       "homepage                   0\n",
       "id                         0\n",
       "keywords                   0\n",
       "original_language          0\n",
       "original_title             0\n",
       "overview                   0\n",
       "popularity                 0\n",
       "production_companies       0\n",
       "production_countries       0\n",
       "release_date               0\n",
       "revenue                 1426\n",
       "runtime                   34\n",
       "spoken_languages           0\n",
       "status                     0\n",
       "tagline                    0\n",
       "title                      0\n",
       "vote_average              62\n",
       "vote_count                61\n",
       "dtype: int64"
      ]
     },
     "execution_count": 18,
     "metadata": {},
     "output_type": "execute_result"
    }
   ],
   "source": [
    "movies.apply(lambda x: sum(x==0),axis=0)"
   ]
  },
  {
   "cell_type": "code",
   "execution_count": 19,
   "id": "6a295a60",
   "metadata": {
    "execution": {
     "iopub.execute_input": "2022-03-22T23:59:21.639387Z",
     "iopub.status.busy": "2022-03-22T23:59:21.638741Z",
     "iopub.status.idle": "2022-03-22T23:59:21.648528Z",
     "shell.execute_reply": "2022-03-22T23:59:21.649086Z",
     "shell.execute_reply.started": "2022-03-22T23:18:22.890196Z"
    },
    "papermill": {
     "duration": 0.060737,
     "end_time": "2022-03-22T23:59:21.649266",
     "exception": false,
     "start_time": "2022-03-22T23:59:21.588529",
     "status": "completed"
    },
    "tags": []
   },
   "outputs": [
    {
     "data": {
      "text/plain": [
       "3211"
      ]
     },
     "execution_count": 19,
     "metadata": {},
     "output_type": "execute_result"
    }
   ],
   "source": [
    "outerlier_thresh = 1000\n",
    "movies = movies[movies.budget>outerlier_thresh]\n",
    "movies = movies[movies.revenue>outerlier_thresh]\n",
    "len(movies)"
   ]
  },
  {
   "cell_type": "code",
   "execution_count": 20,
   "id": "ea01879a",
   "metadata": {
    "execution": {
     "iopub.execute_input": "2022-03-22T23:59:21.798108Z",
     "iopub.status.busy": "2022-03-22T23:59:21.797293Z",
     "iopub.status.idle": "2022-03-22T23:59:21.826834Z",
     "shell.execute_reply": "2022-03-22T23:59:21.827340Z",
     "shell.execute_reply.started": "2022-03-22T23:18:23.906064Z"
    },
    "papermill": {
     "duration": 0.105278,
     "end_time": "2022-03-22T23:59:21.827514",
     "exception": false,
     "start_time": "2022-03-22T23:59:21.722236",
     "status": "completed"
    },
    "tags": []
   },
   "outputs": [
    {
     "data": {
      "text/plain": [
       "vote_average    2\n",
       "vote_count      2\n",
       "dtype: int64"
      ]
     },
     "execution_count": 20,
     "metadata": {},
     "output_type": "execute_result"
    }
   ],
   "source": [
    "zero_values = movies.apply(lambda x: sum(x==0), axis = 0)\n",
    "zero_values[zero_values>0]"
   ]
  },
  {
   "cell_type": "code",
   "execution_count": 21,
   "id": "b39e901e",
   "metadata": {
    "execution": {
     "iopub.execute_input": "2022-03-22T23:59:21.979724Z",
     "iopub.status.busy": "2022-03-22T23:59:21.978746Z",
     "iopub.status.idle": "2022-03-22T23:59:21.982598Z",
     "shell.execute_reply": "2022-03-22T23:59:21.983134Z",
     "shell.execute_reply.started": "2022-03-22T23:18:24.856725Z"
    },
    "papermill": {
     "duration": 0.082785,
     "end_time": "2022-03-22T23:59:21.983327",
     "exception": false,
     "start_time": "2022-03-22T23:59:21.900542",
     "status": "completed"
    },
    "tags": []
   },
   "outputs": [],
   "source": [
    "movies = movies[movies.vote_count>0]"
   ]
  },
  {
   "cell_type": "code",
   "execution_count": 22,
   "id": "01eb3bd3",
   "metadata": {
    "execution": {
     "iopub.execute_input": "2022-03-22T23:59:22.134209Z",
     "iopub.status.busy": "2022-03-22T23:59:22.133355Z",
     "iopub.status.idle": "2022-03-22T23:59:22.162487Z",
     "shell.execute_reply": "2022-03-22T23:59:22.163131Z",
     "shell.execute_reply.started": "2022-03-22T23:18:26.086698Z"
    },
    "papermill": {
     "duration": 0.105984,
     "end_time": "2022-03-22T23:59:22.163299",
     "exception": false,
     "start_time": "2022-03-22T23:59:22.057315",
     "status": "completed"
    },
    "tags": []
   },
   "outputs": [
    {
     "data": {
      "text/plain": [
       "Series([], dtype: int64)"
      ]
     },
     "execution_count": 22,
     "metadata": {},
     "output_type": "execute_result"
    }
   ],
   "source": [
    "zero_values = movies.apply(lambda x: sum(x==0), axis = 0)\n",
    "zero_values[zero_values>0]"
   ]
  },
  {
   "cell_type": "markdown",
   "id": "92e864db",
   "metadata": {
    "papermill": {
     "duration": 0.0741,
     "end_time": "2022-03-22T23:59:22.310916",
     "exception": false,
     "start_time": "2022-03-22T23:59:22.236816",
     "status": "completed"
    },
    "tags": []
   },
   "source": [
    "## Json Handling"
   ]
  },
  {
   "cell_type": "code",
   "execution_count": 23,
   "id": "4a054914",
   "metadata": {
    "execution": {
     "iopub.execute_input": "2022-03-22T23:59:22.470345Z",
     "iopub.status.busy": "2022-03-22T23:59:22.469518Z",
     "iopub.status.idle": "2022-03-22T23:59:22.545482Z",
     "shell.execute_reply": "2022-03-22T23:59:22.544839Z",
     "shell.execute_reply.started": "2022-03-22T23:18:29.185411Z"
    },
    "papermill": {
     "duration": 0.160804,
     "end_time": "2022-03-22T23:59:22.545640",
     "exception": false,
     "start_time": "2022-03-22T23:59:22.384836",
     "status": "completed"
    },
    "tags": []
   },
   "outputs": [],
   "source": [
    "columns = ['genres', 'keywords', 'production_countries', 'production_companies', 'spoken_languages']\n",
    "for col in columns:\n",
    "    movies[col] = movies[col].apply(json.loads)\n",
    "movies['release_date'] =  pd.to_datetime(movies['release_date'], format ='%Y-%m-%d')"
   ]
  },
  {
   "cell_type": "code",
   "execution_count": 24,
   "id": "e10c0af9",
   "metadata": {
    "execution": {
     "iopub.execute_input": "2022-03-22T23:59:22.700080Z",
     "iopub.status.busy": "2022-03-22T23:59:22.696496Z",
     "iopub.status.idle": "2022-03-22T23:59:22.703305Z",
     "shell.execute_reply": "2022-03-22T23:59:22.703955Z",
     "shell.execute_reply.started": "2022-03-22T23:18:55.707732Z"
    },
    "papermill": {
     "duration": 0.08496,
     "end_time": "2022-03-22T23:59:22.704129",
     "exception": false,
     "start_time": "2022-03-22T23:59:22.619169",
     "status": "completed"
    },
    "tags": []
   },
   "outputs": [
    {
     "data": {
      "text/plain": [
       "[{'id': 28, 'name': 'Action'},\n",
       " {'id': 12, 'name': 'Adventure'},\n",
       " {'id': 14, 'name': 'Fantasy'},\n",
       " {'id': 878, 'name': 'Science Fiction'}]"
      ]
     },
     "execution_count": 24,
     "metadata": {},
     "output_type": "execute_result"
    }
   ],
   "source": [
    "movies[\"genres\"][0]"
   ]
  },
  {
   "cell_type": "code",
   "execution_count": 25,
   "id": "f46fe3e3",
   "metadata": {
    "execution": {
     "iopub.execute_input": "2022-03-22T23:59:22.855812Z",
     "iopub.status.busy": "2022-03-22T23:59:22.855001Z",
     "iopub.status.idle": "2022-03-22T23:59:22.862697Z",
     "shell.execute_reply": "2022-03-22T23:59:22.863330Z",
     "shell.execute_reply.started": "2022-03-22T23:19:13.165558Z"
    },
    "papermill": {
     "duration": 0.085631,
     "end_time": "2022-03-22T23:59:22.863491",
     "exception": false,
     "start_time": "2022-03-22T23:59:22.777860",
     "status": "completed"
    },
    "tags": []
   },
   "outputs": [
    {
     "data": {
      "text/plain": [
       "[{'id': 1463, 'name': 'culture clash'},\n",
       " {'id': 2964, 'name': 'future'},\n",
       " {'id': 3386, 'name': 'space war'},\n",
       " {'id': 3388, 'name': 'space colony'},\n",
       " {'id': 3679, 'name': 'society'},\n",
       " {'id': 3801, 'name': 'space travel'},\n",
       " {'id': 9685, 'name': 'futuristic'},\n",
       " {'id': 9840, 'name': 'romance'},\n",
       " {'id': 9882, 'name': 'space'},\n",
       " {'id': 9951, 'name': 'alien'},\n",
       " {'id': 10148, 'name': 'tribe'},\n",
       " {'id': 10158, 'name': 'alien planet'},\n",
       " {'id': 10987, 'name': 'cgi'},\n",
       " {'id': 11399, 'name': 'marine'},\n",
       " {'id': 13065, 'name': 'soldier'},\n",
       " {'id': 14643, 'name': 'battle'},\n",
       " {'id': 14720, 'name': 'love affair'},\n",
       " {'id': 165431, 'name': 'anti war'},\n",
       " {'id': 193554, 'name': 'power relations'},\n",
       " {'id': 206690, 'name': 'mind and soul'},\n",
       " {'id': 209714, 'name': '3d'}]"
      ]
     },
     "execution_count": 25,
     "metadata": {},
     "output_type": "execute_result"
    }
   ],
   "source": [
    "movies[\"keywords\"][0]"
   ]
  },
  {
   "cell_type": "code",
   "execution_count": 26,
   "id": "ab92176f",
   "metadata": {
    "execution": {
     "iopub.execute_input": "2022-03-22T23:59:23.017838Z",
     "iopub.status.busy": "2022-03-22T23:59:23.016882Z",
     "iopub.status.idle": "2022-03-22T23:59:23.022760Z",
     "shell.execute_reply": "2022-03-22T23:59:23.023416Z",
     "shell.execute_reply.started": "2022-03-22T23:19:38.795239Z"
    },
    "papermill": {
     "duration": 0.085395,
     "end_time": "2022-03-22T23:59:23.023606",
     "exception": false,
     "start_time": "2022-03-22T23:59:22.938211",
     "status": "completed"
    },
    "tags": []
   },
   "outputs": [
    {
     "data": {
      "text/plain": [
       "[{'iso_3166_1': 'US', 'name': 'United States of America'},\n",
       " {'iso_3166_1': 'GB', 'name': 'United Kingdom'}]"
      ]
     },
     "execution_count": 26,
     "metadata": {},
     "output_type": "execute_result"
    }
   ],
   "source": [
    "movies[\"production_countries\"][0]"
   ]
  },
  {
   "cell_type": "code",
   "execution_count": 27,
   "id": "50c9ab8b",
   "metadata": {
    "execution": {
     "iopub.execute_input": "2022-03-22T23:59:23.177323Z",
     "iopub.status.busy": "2022-03-22T23:59:23.176508Z",
     "iopub.status.idle": "2022-03-22T23:59:23.182227Z",
     "shell.execute_reply": "2022-03-22T23:59:23.182780Z",
     "shell.execute_reply.started": "2022-03-22T23:20:01.125637Z"
    },
    "papermill": {
     "duration": 0.084044,
     "end_time": "2022-03-22T23:59:23.182943",
     "exception": false,
     "start_time": "2022-03-22T23:59:23.098899",
     "status": "completed"
    },
    "tags": []
   },
   "outputs": [
    {
     "data": {
      "text/plain": [
       "[{'name': 'Ingenious Film Partners', 'id': 289},\n",
       " {'name': 'Twentieth Century Fox Film Corporation', 'id': 306},\n",
       " {'name': 'Dune Entertainment', 'id': 444},\n",
       " {'name': 'Lightstorm Entertainment', 'id': 574}]"
      ]
     },
     "execution_count": 27,
     "metadata": {},
     "output_type": "execute_result"
    }
   ],
   "source": [
    "movies[\"production_companies\"][0]"
   ]
  },
  {
   "cell_type": "code",
   "execution_count": 28,
   "id": "846644af",
   "metadata": {
    "execution": {
     "iopub.execute_input": "2022-03-22T23:59:23.338210Z",
     "iopub.status.busy": "2022-03-22T23:59:23.337374Z",
     "iopub.status.idle": "2022-03-22T23:59:23.342768Z",
     "shell.execute_reply": "2022-03-22T23:59:23.343339Z",
     "shell.execute_reply.started": "2022-03-22T23:20:28.995553Z"
    },
    "papermill": {
     "duration": 0.084718,
     "end_time": "2022-03-22T23:59:23.343508",
     "exception": false,
     "start_time": "2022-03-22T23:59:23.258790",
     "status": "completed"
    },
    "tags": []
   },
   "outputs": [
    {
     "data": {
      "text/plain": [
       "[{'iso_639_1': 'en', 'name': 'English'},\n",
       " {'iso_639_1': 'es', 'name': 'Español'}]"
      ]
     },
     "execution_count": 28,
     "metadata": {},
     "output_type": "execute_result"
    }
   ],
   "source": [
    "movies[\"spoken_languages\"][0]"
   ]
  },
  {
   "cell_type": "code",
   "execution_count": 29,
   "id": "7445909e",
   "metadata": {
    "execution": {
     "iopub.execute_input": "2022-03-22T23:59:23.544622Z",
     "iopub.status.busy": "2022-03-22T23:59:23.543772Z",
     "iopub.status.idle": "2022-03-22T23:59:23.547290Z",
     "shell.execute_reply": "2022-03-22T23:59:23.547860Z",
     "shell.execute_reply.started": "2022-03-22T23:21:08.774536Z"
    },
    "papermill": {
     "duration": 0.12854,
     "end_time": "2022-03-22T23:59:23.548035",
     "exception": false,
     "start_time": "2022-03-22T23:59:23.419495",
     "status": "completed"
    },
    "tags": []
   },
   "outputs": [
    {
     "data": {
      "text/html": [
       "<div>\n",
       "<style scoped>\n",
       "    .dataframe tbody tr th:only-of-type {\n",
       "        vertical-align: middle;\n",
       "    }\n",
       "\n",
       "    .dataframe tbody tr th {\n",
       "        vertical-align: top;\n",
       "    }\n",
       "\n",
       "    .dataframe thead th {\n",
       "        text-align: right;\n",
       "    }\n",
       "</style>\n",
       "<table border=\"1\" class=\"dataframe\">\n",
       "  <thead>\n",
       "    <tr style=\"text-align: right;\">\n",
       "      <th></th>\n",
       "      <th>budget</th>\n",
       "      <th>genres</th>\n",
       "      <th>homepage</th>\n",
       "      <th>id</th>\n",
       "      <th>keywords</th>\n",
       "      <th>original_language</th>\n",
       "      <th>original_title</th>\n",
       "      <th>overview</th>\n",
       "      <th>popularity</th>\n",
       "      <th>production_companies</th>\n",
       "      <th>production_countries</th>\n",
       "      <th>release_date</th>\n",
       "      <th>revenue</th>\n",
       "      <th>runtime</th>\n",
       "      <th>spoken_languages</th>\n",
       "      <th>status</th>\n",
       "      <th>tagline</th>\n",
       "      <th>title</th>\n",
       "      <th>vote_average</th>\n",
       "      <th>vote_count</th>\n",
       "    </tr>\n",
       "  </thead>\n",
       "  <tbody>\n",
       "    <tr>\n",
       "      <th>0</th>\n",
       "      <td>237000000</td>\n",
       "      <td>[Action, Adventure, Fantasy, Science Fiction]</td>\n",
       "      <td>http://www.avatarmovie.com/</td>\n",
       "      <td>19995</td>\n",
       "      <td>[culture clash, future, space war, space colon...</td>\n",
       "      <td>en</td>\n",
       "      <td>Avatar</td>\n",
       "      <td>In the 22nd century, a paraplegic Marine is di...</td>\n",
       "      <td>150.437577</td>\n",
       "      <td>[Ingenious Film Partners, Twentieth Century Fo...</td>\n",
       "      <td>[United States of America, United Kingdom]</td>\n",
       "      <td>2009-12-10</td>\n",
       "      <td>2787965087</td>\n",
       "      <td>162.0</td>\n",
       "      <td>[English, Español]</td>\n",
       "      <td>Released</td>\n",
       "      <td>Enter the World of Pandora.</td>\n",
       "      <td>Avatar</td>\n",
       "      <td>7.2</td>\n",
       "      <td>11800</td>\n",
       "    </tr>\n",
       "    <tr>\n",
       "      <th>1</th>\n",
       "      <td>300000000</td>\n",
       "      <td>[Adventure, Fantasy, Action]</td>\n",
       "      <td>http://disney.go.com/disneypictures/pirates/</td>\n",
       "      <td>285</td>\n",
       "      <td>[ocean, drug abuse, exotic island, east india ...</td>\n",
       "      <td>en</td>\n",
       "      <td>Pirates of the Caribbean: At World's End</td>\n",
       "      <td>Captain Barbossa, long believed to be dead, ha...</td>\n",
       "      <td>139.082615</td>\n",
       "      <td>[Walt Disney Pictures, Jerry Bruckheimer Films...</td>\n",
       "      <td>[United States of America]</td>\n",
       "      <td>2007-05-19</td>\n",
       "      <td>961000000</td>\n",
       "      <td>169.0</td>\n",
       "      <td>[English]</td>\n",
       "      <td>Released</td>\n",
       "      <td>At the end of the world, the adventure begins.</td>\n",
       "      <td>Pirates of the Caribbean: At World's End</td>\n",
       "      <td>6.9</td>\n",
       "      <td>4500</td>\n",
       "    </tr>\n",
       "    <tr>\n",
       "      <th>2</th>\n",
       "      <td>245000000</td>\n",
       "      <td>[Action, Adventure, Crime]</td>\n",
       "      <td>http://www.sonypictures.com/movies/spectre/</td>\n",
       "      <td>206647</td>\n",
       "      <td>[spy, based on novel, secret agent, sequel, mi...</td>\n",
       "      <td>en</td>\n",
       "      <td>Spectre</td>\n",
       "      <td>A cryptic message from Bond’s past sends him o...</td>\n",
       "      <td>107.376788</td>\n",
       "      <td>[Columbia Pictures, Danjaq, B24]</td>\n",
       "      <td>[United Kingdom, United States of America]</td>\n",
       "      <td>2015-10-26</td>\n",
       "      <td>880674609</td>\n",
       "      <td>148.0</td>\n",
       "      <td>[Français, English, Español, Italiano, Deutsch]</td>\n",
       "      <td>Released</td>\n",
       "      <td>A Plan No One Escapes</td>\n",
       "      <td>Spectre</td>\n",
       "      <td>6.3</td>\n",
       "      <td>4466</td>\n",
       "    </tr>\n",
       "    <tr>\n",
       "      <th>3</th>\n",
       "      <td>250000000</td>\n",
       "      <td>[Action, Crime, Drama, Thriller]</td>\n",
       "      <td>http://www.thedarkknightrises.com/</td>\n",
       "      <td>49026</td>\n",
       "      <td>[dc comics, crime fighter, terrorist, secret i...</td>\n",
       "      <td>en</td>\n",
       "      <td>The Dark Knight Rises</td>\n",
       "      <td>Following the death of District Attorney Harve...</td>\n",
       "      <td>112.312950</td>\n",
       "      <td>[Legendary Pictures, Warner Bros., DC Entertai...</td>\n",
       "      <td>[United States of America]</td>\n",
       "      <td>2012-07-16</td>\n",
       "      <td>1084939099</td>\n",
       "      <td>165.0</td>\n",
       "      <td>[English]</td>\n",
       "      <td>Released</td>\n",
       "      <td>The Legend Ends</td>\n",
       "      <td>The Dark Knight Rises</td>\n",
       "      <td>7.6</td>\n",
       "      <td>9106</td>\n",
       "    </tr>\n",
       "    <tr>\n",
       "      <th>4</th>\n",
       "      <td>260000000</td>\n",
       "      <td>[Action, Adventure, Science Fiction]</td>\n",
       "      <td>http://movies.disney.com/john-carter</td>\n",
       "      <td>49529</td>\n",
       "      <td>[based on novel, mars, medallion, space travel...</td>\n",
       "      <td>en</td>\n",
       "      <td>John Carter</td>\n",
       "      <td>John Carter is a war-weary, former military ca...</td>\n",
       "      <td>43.926995</td>\n",
       "      <td>[Walt Disney Pictures]</td>\n",
       "      <td>[United States of America]</td>\n",
       "      <td>2012-03-07</td>\n",
       "      <td>284139100</td>\n",
       "      <td>132.0</td>\n",
       "      <td>[English]</td>\n",
       "      <td>Released</td>\n",
       "      <td>Lost in our world, found in another.</td>\n",
       "      <td>John Carter</td>\n",
       "      <td>6.1</td>\n",
       "      <td>2124</td>\n",
       "    </tr>\n",
       "  </tbody>\n",
       "</table>\n",
       "</div>"
      ],
      "text/plain": [
       "      budget                                         genres  \\\n",
       "0  237000000  [Action, Adventure, Fantasy, Science Fiction]   \n",
       "1  300000000                   [Adventure, Fantasy, Action]   \n",
       "2  245000000                     [Action, Adventure, Crime]   \n",
       "3  250000000               [Action, Crime, Drama, Thriller]   \n",
       "4  260000000           [Action, Adventure, Science Fiction]   \n",
       "\n",
       "                                       homepage      id  \\\n",
       "0                   http://www.avatarmovie.com/   19995   \n",
       "1  http://disney.go.com/disneypictures/pirates/     285   \n",
       "2   http://www.sonypictures.com/movies/spectre/  206647   \n",
       "3            http://www.thedarkknightrises.com/   49026   \n",
       "4          http://movies.disney.com/john-carter   49529   \n",
       "\n",
       "                                            keywords original_language  \\\n",
       "0  [culture clash, future, space war, space colon...                en   \n",
       "1  [ocean, drug abuse, exotic island, east india ...                en   \n",
       "2  [spy, based on novel, secret agent, sequel, mi...                en   \n",
       "3  [dc comics, crime fighter, terrorist, secret i...                en   \n",
       "4  [based on novel, mars, medallion, space travel...                en   \n",
       "\n",
       "                             original_title  \\\n",
       "0                                    Avatar   \n",
       "1  Pirates of the Caribbean: At World's End   \n",
       "2                                   Spectre   \n",
       "3                     The Dark Knight Rises   \n",
       "4                               John Carter   \n",
       "\n",
       "                                            overview  popularity  \\\n",
       "0  In the 22nd century, a paraplegic Marine is di...  150.437577   \n",
       "1  Captain Barbossa, long believed to be dead, ha...  139.082615   \n",
       "2  A cryptic message from Bond’s past sends him o...  107.376788   \n",
       "3  Following the death of District Attorney Harve...  112.312950   \n",
       "4  John Carter is a war-weary, former military ca...   43.926995   \n",
       "\n",
       "                                production_companies  \\\n",
       "0  [Ingenious Film Partners, Twentieth Century Fo...   \n",
       "1  [Walt Disney Pictures, Jerry Bruckheimer Films...   \n",
       "2                   [Columbia Pictures, Danjaq, B24]   \n",
       "3  [Legendary Pictures, Warner Bros., DC Entertai...   \n",
       "4                             [Walt Disney Pictures]   \n",
       "\n",
       "                         production_countries release_date     revenue  \\\n",
       "0  [United States of America, United Kingdom]   2009-12-10  2787965087   \n",
       "1                  [United States of America]   2007-05-19   961000000   \n",
       "2  [United Kingdom, United States of America]   2015-10-26   880674609   \n",
       "3                  [United States of America]   2012-07-16  1084939099   \n",
       "4                  [United States of America]   2012-03-07   284139100   \n",
       "\n",
       "   runtime                                 spoken_languages    status  \\\n",
       "0    162.0                               [English, Español]  Released   \n",
       "1    169.0                                        [English]  Released   \n",
       "2    148.0  [Français, English, Español, Italiano, Deutsch]  Released   \n",
       "3    165.0                                        [English]  Released   \n",
       "4    132.0                                        [English]  Released   \n",
       "\n",
       "                                          tagline  \\\n",
       "0                     Enter the World of Pandora.   \n",
       "1  At the end of the world, the adventure begins.   \n",
       "2                           A Plan No One Escapes   \n",
       "3                                 The Legend Ends   \n",
       "4            Lost in our world, found in another.   \n",
       "\n",
       "                                      title  vote_average  vote_count  \n",
       "0                                    Avatar           7.2       11800  \n",
       "1  Pirates of the Caribbean: At World's End           6.9        4500  \n",
       "2                                   Spectre           6.3        4466  \n",
       "3                     The Dark Knight Rises           7.6        9106  \n",
       "4                               John Carter           6.1        2124  "
      ]
     },
     "execution_count": 29,
     "metadata": {},
     "output_type": "execute_result"
    }
   ],
   "source": [
    "# We extract the names from the json data\n",
    "for col in columns: \n",
    "    movies[col] = movies[col].map(lambda x:[i['name'] for i in x])\n",
    "\n",
    "movies.head()"
   ]
  },
  {
   "cell_type": "code",
   "execution_count": 30,
   "id": "bb127caf",
   "metadata": {
    "execution": {
     "iopub.execute_input": "2022-03-22T23:59:23.847691Z",
     "iopub.status.busy": "2022-03-22T23:59:23.724303Z",
     "iopub.status.idle": "2022-03-22T23:59:23.980606Z",
     "shell.execute_reply": "2022-03-22T23:59:23.979915Z",
     "shell.execute_reply.started": "2022-03-22T23:22:17.383788Z"
    },
    "papermill": {
     "duration": 0.35502,
     "end_time": "2022-03-22T23:59:23.980808",
     "exception": false,
     "start_time": "2022-03-22T23:59:23.625788",
     "status": "completed"
    },
    "tags": []
   },
   "outputs": [],
   "source": [
    "movies['year'] = movies['release_date'].map(lambda dates: dates.year)\n",
    "\n",
    "movies['release_date'] = movies['release_date'].map(lambda dates: datetime.datetime.strptime(str(dates), '%Y-%m-%d %H:%M:%S'))\n",
    "movies['day_of_year'] = movies['release_date'].map(lambda dates: dates.timetuple().tm_yday)\n",
    "\n",
    "movies['year'] = movies['release_date'].map(lambda dates: dates.year)\n",
    "\n",
    "movies['month'] = movies['release_date'].map(lambda dates: dates.month)"
   ]
  },
  {
   "cell_type": "code",
   "execution_count": 31,
   "id": "b997cce7",
   "metadata": {
    "execution": {
     "iopub.execute_input": "2022-03-22T23:59:24.170370Z",
     "iopub.status.busy": "2022-03-22T23:59:24.154414Z",
     "iopub.status.idle": "2022-03-22T23:59:25.497820Z",
     "shell.execute_reply": "2022-03-22T23:59:25.497138Z",
     "shell.execute_reply.started": "2022-03-22T23:24:32.354609Z"
    },
    "papermill": {
     "duration": 1.438883,
     "end_time": "2022-03-22T23:59:25.497989",
     "exception": false,
     "start_time": "2022-03-22T23:59:24.059106",
     "status": "completed"
    },
    "tags": []
   },
   "outputs": [],
   "source": [
    "columns = ['cast', 'crew']\n",
    "\n",
    "for col in columns: \n",
    "    credits[col] = credits[col].apply(json.loads)\n",
    "    \n",
    "credits['cast'] = credits['cast'].map(lambda x:[ [i['name'],i['gender']] for i in x])\n",
    "credits['crew'] = credits['crew'].map(lambda x:[ [i['name'],i['job'],i['department'],i['gender']] for i in x])"
   ]
  },
  {
   "cell_type": "code",
   "execution_count": 32,
   "id": "7b9d778d",
   "metadata": {
    "execution": {
     "iopub.execute_input": "2022-03-22T23:59:25.660260Z",
     "iopub.status.busy": "2022-03-22T23:59:25.657032Z",
     "iopub.status.idle": "2022-03-22T23:59:25.662485Z",
     "shell.execute_reply": "2022-03-22T23:59:25.663036Z",
     "shell.execute_reply.started": "2022-03-22T23:25:14.655289Z"
    },
    "papermill": {
     "duration": 0.086606,
     "end_time": "2022-03-22T23:59:25.663229",
     "exception": false,
     "start_time": "2022-03-22T23:59:25.576623",
     "status": "completed"
    },
    "tags": []
   },
   "outputs": [
    {
     "data": {
      "text/plain": [
       "[['Sam Worthington', 2],\n",
       " ['Zoe Saldana', 1],\n",
       " ['Sigourney Weaver', 1],\n",
       " ['Stephen Lang', 2],\n",
       " ['Michelle Rodriguez', 1],\n",
       " ['Giovanni Ribisi', 2],\n",
       " ['Joel David Moore', 2],\n",
       " ['CCH Pounder', 1]]"
      ]
     },
     "execution_count": 32,
     "metadata": {},
     "output_type": "execute_result"
    }
   ],
   "source": [
    "credits.cast[0][:8]"
   ]
  },
  {
   "cell_type": "code",
   "execution_count": 33,
   "id": "0c1c8d95",
   "metadata": {
    "execution": {
     "iopub.execute_input": "2022-03-22T23:59:25.825625Z",
     "iopub.status.busy": "2022-03-22T23:59:25.825020Z",
     "iopub.status.idle": "2022-03-22T23:59:25.827646Z",
     "shell.execute_reply": "2022-03-22T23:59:25.828089Z",
     "shell.execute_reply.started": "2022-03-22T23:25:31.634501Z"
    },
    "papermill": {
     "duration": 0.087123,
     "end_time": "2022-03-22T23:59:25.828242",
     "exception": false,
     "start_time": "2022-03-22T23:59:25.741119",
     "status": "completed"
    },
    "tags": []
   },
   "outputs": [
    {
     "data": {
      "text/plain": [
       "[['Stephen E. Rivkin', 'Editor', 'Editing', 0],\n",
       " ['Rick Carter', 'Production Design', 'Art', 2],\n",
       " ['Christopher Boyes', 'Sound Designer', 'Sound', 0],\n",
       " ['Christopher Boyes', 'Supervising Sound Editor', 'Sound', 0],\n",
       " ['Mali Finn', 'Casting', 'Production', 1],\n",
       " ['James Horner', 'Original Music Composer', 'Sound', 2],\n",
       " ['James Cameron', 'Director', 'Directing', 2],\n",
       " ['James Cameron', 'Writer', 'Writing', 2]]"
      ]
     },
     "execution_count": 33,
     "metadata": {},
     "output_type": "execute_result"
    }
   ],
   "source": [
    "credits.crew[0][:8]"
   ]
  },
  {
   "cell_type": "markdown",
   "id": "3f296579",
   "metadata": {
    "papermill": {
     "duration": 0.050027,
     "end_time": "2022-03-22T23:59:25.931304",
     "exception": false,
     "start_time": "2022-03-22T23:59:25.881277",
     "status": "completed"
    },
    "tags": []
   },
   "source": [
    "# Movie Title"
   ]
  },
  {
   "cell_type": "code",
   "execution_count": 34,
   "id": "fcaebfda",
   "metadata": {
    "execution": {
     "iopub.execute_input": "2022-03-22T23:59:26.035951Z",
     "iopub.status.busy": "2022-03-22T23:59:26.035430Z",
     "iopub.status.idle": "2022-03-22T23:59:26.048590Z",
     "shell.execute_reply": "2022-03-22T23:59:26.049161Z",
     "shell.execute_reply.started": "2022-03-22T23:26:48.634563Z"
    },
    "papermill": {
     "duration": 0.067165,
     "end_time": "2022-03-22T23:59:26.049356",
     "exception": false,
     "start_time": "2022-03-22T23:59:25.982191",
     "status": "completed"
    },
    "tags": []
   },
   "outputs": [
    {
     "data": {
      "text/plain": [
       "title\n",
       "The Host    2\n",
       "Name: title, dtype: int64"
      ]
     },
     "execution_count": 34,
     "metadata": {},
     "output_type": "execute_result"
    }
   ],
   "source": [
    "count_title = movies.groupby('title').title.count()\n",
    "count_title[count_title != 1]"
   ]
  },
  {
   "cell_type": "code",
   "execution_count": 35,
   "id": "6f161ebf",
   "metadata": {
    "execution": {
     "iopub.execute_input": "2022-03-22T23:59:26.211252Z",
     "iopub.status.busy": "2022-03-22T23:59:26.210451Z",
     "iopub.status.idle": "2022-03-22T23:59:26.387117Z",
     "shell.execute_reply": "2022-03-22T23:59:26.386570Z",
     "shell.execute_reply.started": "2022-03-22T23:27:19.255176Z"
    },
    "papermill": {
     "duration": 0.258235,
     "end_time": "2022-03-22T23:59:26.387253",
     "exception": false,
     "start_time": "2022-03-22T23:59:26.129018",
     "status": "completed"
    },
    "tags": []
   },
   "outputs": [
    {
     "data": {
      "text/plain": [
       "Series([], Name: title, dtype: int64)"
      ]
     },
     "execution_count": 35,
     "metadata": {},
     "output_type": "execute_result"
    }
   ],
   "source": [
    "\n",
    "\n",
    "double_title = count_title[count_title != 1].index.values\n",
    "\n",
    "movies.title = movies.apply(lambda row: row.title+'_'+str(row.release_date) if (row.title in double_title) else row.title,axis = 1)\n",
    "\n",
    "count_title = movies.groupby('title').title.count()\n",
    "count_title[count_title != 1]"
   ]
  },
  {
   "cell_type": "markdown",
   "id": "77468d5e",
   "metadata": {
    "papermill": {
     "duration": 0.051498,
     "end_time": "2022-03-22T23:59:26.490021",
     "exception": false,
     "start_time": "2022-03-22T23:59:26.438523",
     "status": "completed"
    },
    "tags": []
   },
   "source": [
    "# Movie Budget"
   ]
  },
  {
   "cell_type": "code",
   "execution_count": 36,
   "id": "cc1312fc",
   "metadata": {
    "execution": {
     "iopub.execute_input": "2022-03-22T23:59:26.623598Z",
     "iopub.status.busy": "2022-03-22T23:59:26.621402Z",
     "iopub.status.idle": "2022-03-22T23:59:27.154651Z",
     "shell.execute_reply": "2022-03-22T23:59:27.154103Z",
     "shell.execute_reply.started": "2022-03-22T23:28:08.874672Z"
    },
    "papermill": {
     "duration": 0.61262,
     "end_time": "2022-03-22T23:59:27.154838",
     "exception": false,
     "start_time": "2022-03-22T23:59:26.542218",
     "status": "completed"
    },
    "tags": []
   },
   "outputs": [
    {
     "data": {
      "image/png": "[encoded data removed]",
      "text/plain": [
       "<Figure size 864x504 with 1 Axes>"
      ]
     },
     "metadata": {
      "needs_background": "light"
     },
     "output_type": "display_data"
    }
   ],
   "source": [
    "plt.figure(figsize=(12,7))\n",
    "plt.hist(movies['budget'],bins= 50)\n",
    "plt.title(\"Distribution of the budget\")\n",
    "plt.xlabel('Money')\n",
    "plt.ylabel('# of movies')\n",
    "plt.yscale(\"log\")\n",
    "plt.show()"
   ]
  },
  {
   "cell_type": "markdown",
   "id": "40543f89",
   "metadata": {
    "papermill": {
     "duration": 0.079828,
     "end_time": "2022-03-22T23:59:27.315568",
     "exception": false,
     "start_time": "2022-03-22T23:59:27.235740",
     "status": "completed"
    },
    "tags": []
   },
   "source": [
    "# Revenue"
   ]
  },
  {
   "cell_type": "code",
   "execution_count": 37,
   "id": "a5cc4fbd",
   "metadata": {
    "execution": {
     "iopub.execute_input": "2022-03-22T23:59:27.478868Z",
     "iopub.status.busy": "2022-03-22T23:59:27.478071Z",
     "iopub.status.idle": "2022-03-22T23:59:28.079479Z",
     "shell.execute_reply": "2022-03-22T23:59:28.078919Z",
     "shell.execute_reply.started": "2022-03-22T23:29:16.824097Z"
    },
    "papermill": {
     "duration": 0.683681,
     "end_time": "2022-03-22T23:59:28.079602",
     "exception": false,
     "start_time": "2022-03-22T23:59:27.395921",
     "status": "completed"
    },
    "tags": []
   },
   "outputs": [
    {
     "data": {
      "image/png": "[encoded data removed]",
      "text/plain": [
       "<Figure size 864x504 with 1 Axes>"
      ]
     },
     "metadata": {
      "needs_background": "light"
     },
     "output_type": "display_data"
    }
   ],
   "source": [
    "plt.figure(figsize=(12,7))\n",
    "plt.hist(movies['revenue'],bins= 50)\n",
    "plt.title(\"Distribution of the revenue\")\n",
    "plt.xlabel('Billions')\n",
    "plt.ylabel('# of movies')\n",
    "plt.yscale(\"log\")\n",
    "plt.show()"
   ]
  },
  {
   "cell_type": "code",
   "execution_count": 38,
   "id": "82198415",
   "metadata": {
    "execution": {
     "iopub.execute_input": "2022-03-22T23:59:28.192085Z",
     "iopub.status.busy": "2022-03-22T23:59:28.186869Z",
     "iopub.status.idle": "2022-03-22T23:59:28.249363Z",
     "shell.execute_reply": "2022-03-22T23:59:28.249751Z",
     "shell.execute_reply.started": "2022-03-22T23:30:26.504560Z"
    },
    "papermill": {
     "duration": 0.118774,
     "end_time": "2022-03-22T23:59:28.249900",
     "exception": false,
     "start_time": "2022-03-22T23:59:28.131126",
     "status": "completed"
    },
    "tags": []
   },
   "outputs": [
    {
     "data": {
      "text/html": [
       "<div>\n",
       "<style scoped>\n",
       "    .dataframe tbody tr th:only-of-type {\n",
       "        vertical-align: middle;\n",
       "    }\n",
       "\n",
       "    .dataframe tbody tr th {\n",
       "        vertical-align: top;\n",
       "    }\n",
       "\n",
       "    .dataframe thead th {\n",
       "        text-align: right;\n",
       "    }\n",
       "</style>\n",
       "<table border=\"1\" class=\"dataframe\">\n",
       "  <thead>\n",
       "    <tr style=\"text-align: right;\">\n",
       "      <th></th>\n",
       "      <th>budget</th>\n",
       "      <th>genres</th>\n",
       "      <th>homepage</th>\n",
       "      <th>id</th>\n",
       "      <th>keywords</th>\n",
       "      <th>original_language</th>\n",
       "      <th>original_title</th>\n",
       "      <th>overview</th>\n",
       "      <th>popularity</th>\n",
       "      <th>production_companies</th>\n",
       "      <th>...</th>\n",
       "      <th>runtime</th>\n",
       "      <th>spoken_languages</th>\n",
       "      <th>status</th>\n",
       "      <th>tagline</th>\n",
       "      <th>title</th>\n",
       "      <th>vote_average</th>\n",
       "      <th>vote_count</th>\n",
       "      <th>year</th>\n",
       "      <th>day_of_year</th>\n",
       "      <th>month</th>\n",
       "    </tr>\n",
       "  </thead>\n",
       "  <tbody>\n",
       "    <tr>\n",
       "      <th>0</th>\n",
       "      <td>237000000</td>\n",
       "      <td>Action</td>\n",
       "      <td>http://www.avatarmovie.com/</td>\n",
       "      <td>19995</td>\n",
       "      <td>[culture clash, future, space war, space colon...</td>\n",
       "      <td>en</td>\n",
       "      <td>Avatar</td>\n",
       "      <td>In the 22nd century, a paraplegic Marine is di...</td>\n",
       "      <td>150.437577</td>\n",
       "      <td>[Ingenious Film Partners, Twentieth Century Fo...</td>\n",
       "      <td>...</td>\n",
       "      <td>162.0</td>\n",
       "      <td>[English, Español]</td>\n",
       "      <td>Released</td>\n",
       "      <td>Enter the World of Pandora.</td>\n",
       "      <td>Avatar</td>\n",
       "      <td>7.2</td>\n",
       "      <td>11800</td>\n",
       "      <td>2009</td>\n",
       "      <td>344</td>\n",
       "      <td>12</td>\n",
       "    </tr>\n",
       "    <tr>\n",
       "      <th>0</th>\n",
       "      <td>237000000</td>\n",
       "      <td>Adventure</td>\n",
       "      <td>http://www.avatarmovie.com/</td>\n",
       "      <td>19995</td>\n",
       "      <td>[culture clash, future, space war, space colon...</td>\n",
       "      <td>en</td>\n",
       "      <td>Avatar</td>\n",
       "      <td>In the 22nd century, a paraplegic Marine is di...</td>\n",
       "      <td>150.437577</td>\n",
       "      <td>[Ingenious Film Partners, Twentieth Century Fo...</td>\n",
       "      <td>...</td>\n",
       "      <td>162.0</td>\n",
       "      <td>[English, Español]</td>\n",
       "      <td>Released</td>\n",
       "      <td>Enter the World of Pandora.</td>\n",
       "      <td>Avatar</td>\n",
       "      <td>7.2</td>\n",
       "      <td>11800</td>\n",
       "      <td>2009</td>\n",
       "      <td>344</td>\n",
       "      <td>12</td>\n",
       "    </tr>\n",
       "    <tr>\n",
       "      <th>0</th>\n",
       "      <td>237000000</td>\n",
       "      <td>Fantasy</td>\n",
       "      <td>http://www.avatarmovie.com/</td>\n",
       "      <td>19995</td>\n",
       "      <td>[culture clash, future, space war, space colon...</td>\n",
       "      <td>en</td>\n",
       "      <td>Avatar</td>\n",
       "      <td>In the 22nd century, a paraplegic Marine is di...</td>\n",
       "      <td>150.437577</td>\n",
       "      <td>[Ingenious Film Partners, Twentieth Century Fo...</td>\n",
       "      <td>...</td>\n",
       "      <td>162.0</td>\n",
       "      <td>[English, Español]</td>\n",
       "      <td>Released</td>\n",
       "      <td>Enter the World of Pandora.</td>\n",
       "      <td>Avatar</td>\n",
       "      <td>7.2</td>\n",
       "      <td>11800</td>\n",
       "      <td>2009</td>\n",
       "      <td>344</td>\n",
       "      <td>12</td>\n",
       "    </tr>\n",
       "    <tr>\n",
       "      <th>0</th>\n",
       "      <td>237000000</td>\n",
       "      <td>Science Fiction</td>\n",
       "      <td>http://www.avatarmovie.com/</td>\n",
       "      <td>19995</td>\n",
       "      <td>[culture clash, future, space war, space colon...</td>\n",
       "      <td>en</td>\n",
       "      <td>Avatar</td>\n",
       "      <td>In the 22nd century, a paraplegic Marine is di...</td>\n",
       "      <td>150.437577</td>\n",
       "      <td>[Ingenious Film Partners, Twentieth Century Fo...</td>\n",
       "      <td>...</td>\n",
       "      <td>162.0</td>\n",
       "      <td>[English, Español]</td>\n",
       "      <td>Released</td>\n",
       "      <td>Enter the World of Pandora.</td>\n",
       "      <td>Avatar</td>\n",
       "      <td>7.2</td>\n",
       "      <td>11800</td>\n",
       "      <td>2009</td>\n",
       "      <td>344</td>\n",
       "      <td>12</td>\n",
       "    </tr>\n",
       "    <tr>\n",
       "      <th>1</th>\n",
       "      <td>300000000</td>\n",
       "      <td>Adventure</td>\n",
       "      <td>http://disney.go.com/disneypictures/pirates/</td>\n",
       "      <td>285</td>\n",
       "      <td>[ocean, drug abuse, exotic island, east india ...</td>\n",
       "      <td>en</td>\n",
       "      <td>Pirates of the Caribbean: At World's End</td>\n",
       "      <td>Captain Barbossa, long believed to be dead, ha...</td>\n",
       "      <td>139.082615</td>\n",
       "      <td>[Walt Disney Pictures, Jerry Bruckheimer Films...</td>\n",
       "      <td>...</td>\n",
       "      <td>169.0</td>\n",
       "      <td>[English]</td>\n",
       "      <td>Released</td>\n",
       "      <td>At the end of the world, the adventure begins.</td>\n",
       "      <td>Pirates of the Caribbean: At World's End</td>\n",
       "      <td>6.9</td>\n",
       "      <td>4500</td>\n",
       "      <td>2007</td>\n",
       "      <td>139</td>\n",
       "      <td>5</td>\n",
       "    </tr>\n",
       "    <tr>\n",
       "      <th>...</th>\n",
       "      <td>...</td>\n",
       "      <td>...</td>\n",
       "      <td>...</td>\n",
       "      <td>...</td>\n",
       "      <td>...</td>\n",
       "      <td>...</td>\n",
       "      <td>...</td>\n",
       "      <td>...</td>\n",
       "      <td>...</td>\n",
       "      <td>...</td>\n",
       "      <td>...</td>\n",
       "      <td>...</td>\n",
       "      <td>...</td>\n",
       "      <td>...</td>\n",
       "      <td>...</td>\n",
       "      <td>...</td>\n",
       "      <td>...</td>\n",
       "      <td>...</td>\n",
       "      <td>...</td>\n",
       "      <td>...</td>\n",
       "      <td>...</td>\n",
       "    </tr>\n",
       "    <tr>\n",
       "      <th>4796</th>\n",
       "      <td>7000</td>\n",
       "      <td>Drama</td>\n",
       "      <td>http://www.primermovie.com</td>\n",
       "      <td>14337</td>\n",
       "      <td>[distrust, garage, identity crisis, time trave...</td>\n",
       "      <td>en</td>\n",
       "      <td>Primer</td>\n",
       "      <td>Friends/fledgling entrepreneurs invent a devic...</td>\n",
       "      <td>23.307949</td>\n",
       "      <td>[Thinkfilm]</td>\n",
       "      <td>...</td>\n",
       "      <td>77.0</td>\n",
       "      <td>[English]</td>\n",
       "      <td>Released</td>\n",
       "      <td>What happens if it actually works?</td>\n",
       "      <td>Primer</td>\n",
       "      <td>6.9</td>\n",
       "      <td>658</td>\n",
       "      <td>2004</td>\n",
       "      <td>282</td>\n",
       "      <td>10</td>\n",
       "    </tr>\n",
       "    <tr>\n",
       "      <th>4796</th>\n",
       "      <td>7000</td>\n",
       "      <td>Thriller</td>\n",
       "      <td>http://www.primermovie.com</td>\n",
       "      <td>14337</td>\n",
       "      <td>[distrust, garage, identity crisis, time trave...</td>\n",
       "      <td>en</td>\n",
       "      <td>Primer</td>\n",
       "      <td>Friends/fledgling entrepreneurs invent a devic...</td>\n",
       "      <td>23.307949</td>\n",
       "      <td>[Thinkfilm]</td>\n",
       "      <td>...</td>\n",
       "      <td>77.0</td>\n",
       "      <td>[English]</td>\n",
       "      <td>Released</td>\n",
       "      <td>What happens if it actually works?</td>\n",
       "      <td>Primer</td>\n",
       "      <td>6.9</td>\n",
       "      <td>658</td>\n",
       "      <td>2004</td>\n",
       "      <td>282</td>\n",
       "      <td>10</td>\n",
       "    </tr>\n",
       "    <tr>\n",
       "      <th>4798</th>\n",
       "      <td>220000</td>\n",
       "      <td>Action</td>\n",
       "      <td>NaN</td>\n",
       "      <td>9367</td>\n",
       "      <td>[united states–mexico barrier, legs, arms, pap...</td>\n",
       "      <td>es</td>\n",
       "      <td>El Mariachi</td>\n",
       "      <td>El Mariachi just wants to play his guitar and ...</td>\n",
       "      <td>14.269792</td>\n",
       "      <td>[Columbia Pictures]</td>\n",
       "      <td>...</td>\n",
       "      <td>81.0</td>\n",
       "      <td>[Español]</td>\n",
       "      <td>Released</td>\n",
       "      <td>He didn't come looking for trouble, but troubl...</td>\n",
       "      <td>El Mariachi</td>\n",
       "      <td>6.6</td>\n",
       "      <td>238</td>\n",
       "      <td>1992</td>\n",
       "      <td>248</td>\n",
       "      <td>9</td>\n",
       "    </tr>\n",
       "    <tr>\n",
       "      <th>4798</th>\n",
       "      <td>220000</td>\n",
       "      <td>Crime</td>\n",
       "      <td>NaN</td>\n",
       "      <td>9367</td>\n",
       "      <td>[united states–mexico barrier, legs, arms, pap...</td>\n",
       "      <td>es</td>\n",
       "      <td>El Mariachi</td>\n",
       "      <td>El Mariachi just wants to play his guitar and ...</td>\n",
       "      <td>14.269792</td>\n",
       "      <td>[Columbia Pictures]</td>\n",
       "      <td>...</td>\n",
       "      <td>81.0</td>\n",
       "      <td>[Español]</td>\n",
       "      <td>Released</td>\n",
       "      <td>He didn't come looking for trouble, but troubl...</td>\n",
       "      <td>El Mariachi</td>\n",
       "      <td>6.6</td>\n",
       "      <td>238</td>\n",
       "      <td>1992</td>\n",
       "      <td>248</td>\n",
       "      <td>9</td>\n",
       "    </tr>\n",
       "    <tr>\n",
       "      <th>4798</th>\n",
       "      <td>220000</td>\n",
       "      <td>Thriller</td>\n",
       "      <td>NaN</td>\n",
       "      <td>9367</td>\n",
       "      <td>[united states–mexico barrier, legs, arms, pap...</td>\n",
       "      <td>es</td>\n",
       "      <td>El Mariachi</td>\n",
       "      <td>El Mariachi just wants to play his guitar and ...</td>\n",
       "      <td>14.269792</td>\n",
       "      <td>[Columbia Pictures]</td>\n",
       "      <td>...</td>\n",
       "      <td>81.0</td>\n",
       "      <td>[Español]</td>\n",
       "      <td>Released</td>\n",
       "      <td>He didn't come looking for trouble, but troubl...</td>\n",
       "      <td>El Mariachi</td>\n",
       "      <td>6.6</td>\n",
       "      <td>238</td>\n",
       "      <td>1992</td>\n",
       "      <td>248</td>\n",
       "      <td>9</td>\n",
       "    </tr>\n",
       "  </tbody>\n",
       "</table>\n",
       "<p>8509 rows × 23 columns</p>\n",
       "</div>"
      ],
      "text/plain": [
       "         budget           genres  \\\n",
       "0     237000000           Action   \n",
       "0     237000000        Adventure   \n",
       "0     237000000          Fantasy   \n",
       "0     237000000  Science Fiction   \n",
       "1     300000000        Adventure   \n",
       "...         ...              ...   \n",
       "4796       7000            Drama   \n",
       "4796       7000         Thriller   \n",
       "4798     220000           Action   \n",
       "4798     220000            Crime   \n",
       "4798     220000         Thriller   \n",
       "\n",
       "                                          homepage     id  \\\n",
       "0                      http://www.avatarmovie.com/  19995   \n",
       "0                      http://www.avatarmovie.com/  19995   \n",
       "0                      http://www.avatarmovie.com/  19995   \n",
       "0                      http://www.avatarmovie.com/  19995   \n",
       "1     http://disney.go.com/disneypictures/pirates/    285   \n",
       "...                                            ...    ...   \n",
       "4796                    http://www.primermovie.com  14337   \n",
       "4796                    http://www.primermovie.com  14337   \n",
       "4798                                           NaN   9367   \n",
       "4798                                           NaN   9367   \n",
       "4798                                           NaN   9367   \n",
       "\n",
       "                                               keywords original_language  \\\n",
       "0     [culture clash, future, space war, space colon...                en   \n",
       "0     [culture clash, future, space war, space colon...                en   \n",
       "0     [culture clash, future, space war, space colon...                en   \n",
       "0     [culture clash, future, space war, space colon...                en   \n",
       "1     [ocean, drug abuse, exotic island, east india ...                en   \n",
       "...                                                 ...               ...   \n",
       "4796  [distrust, garage, identity crisis, time trave...                en   \n",
       "4796  [distrust, garage, identity crisis, time trave...                en   \n",
       "4798  [united states–mexico barrier, legs, arms, pap...                es   \n",
       "4798  [united states–mexico barrier, legs, arms, pap...                es   \n",
       "4798  [united states–mexico barrier, legs, arms, pap...                es   \n",
       "\n",
       "                                original_title  \\\n",
       "0                                       Avatar   \n",
       "0                                       Avatar   \n",
       "0                                       Avatar   \n",
       "0                                       Avatar   \n",
       "1     Pirates of the Caribbean: At World's End   \n",
       "...                                        ...   \n",
       "4796                                    Primer   \n",
       "4796                                    Primer   \n",
       "4798                               El Mariachi   \n",
       "4798                               El Mariachi   \n",
       "4798                               El Mariachi   \n",
       "\n",
       "                                               overview  popularity  \\\n",
       "0     In the 22nd century, a paraplegic Marine is di...  150.437577   \n",
       "0     In the 22nd century, a paraplegic Marine is di...  150.437577   \n",
       "0     In the 22nd century, a paraplegic Marine is di...  150.437577   \n",
       "0     In the 22nd century, a paraplegic Marine is di...  150.437577   \n",
       "1     Captain Barbossa, long believed to be dead, ha...  139.082615   \n",
       "...                                                 ...         ...   \n",
       "4796  Friends/fledgling entrepreneurs invent a devic...   23.307949   \n",
       "4796  Friends/fledgling entrepreneurs invent a devic...   23.307949   \n",
       "4798  El Mariachi just wants to play his guitar and ...   14.269792   \n",
       "4798  El Mariachi just wants to play his guitar and ...   14.269792   \n",
       "4798  El Mariachi just wants to play his guitar and ...   14.269792   \n",
       "\n",
       "                                   production_companies  ... runtime  \\\n",
       "0     [Ingenious Film Partners, Twentieth Century Fo...  ...   162.0   \n",
       "0     [Ingenious Film Partners, Twentieth Century Fo...  ...   162.0   \n",
       "0     [Ingenious Film Partners, Twentieth Century Fo...  ...   162.0   \n",
       "0     [Ingenious Film Partners, Twentieth Century Fo...  ...   162.0   \n",
       "1     [Walt Disney Pictures, Jerry Bruckheimer Films...  ...   169.0   \n",
       "...                                                 ...  ...     ...   \n",
       "4796                                        [Thinkfilm]  ...    77.0   \n",
       "4796                                        [Thinkfilm]  ...    77.0   \n",
       "4798                                [Columbia Pictures]  ...    81.0   \n",
       "4798                                [Columbia Pictures]  ...    81.0   \n",
       "4798                                [Columbia Pictures]  ...    81.0   \n",
       "\n",
       "        spoken_languages    status  \\\n",
       "0     [English, Español]  Released   \n",
       "0     [English, Español]  Released   \n",
       "0     [English, Español]  Released   \n",
       "0     [English, Español]  Released   \n",
       "1              [English]  Released   \n",
       "...                  ...       ...   \n",
       "4796           [English]  Released   \n",
       "4796           [English]  Released   \n",
       "4798           [Español]  Released   \n",
       "4798           [Español]  Released   \n",
       "4798           [Español]  Released   \n",
       "\n",
       "                                                tagline  \\\n",
       "0                           Enter the World of Pandora.   \n",
       "0                           Enter the World of Pandora.   \n",
       "0                           Enter the World of Pandora.   \n",
       "0                           Enter the World of Pandora.   \n",
       "1        At the end of the world, the adventure begins.   \n",
       "...                                                 ...   \n",
       "4796                 What happens if it actually works?   \n",
       "4796                 What happens if it actually works?   \n",
       "4798  He didn't come looking for trouble, but troubl...   \n",
       "4798  He didn't come looking for trouble, but troubl...   \n",
       "4798  He didn't come looking for trouble, but troubl...   \n",
       "\n",
       "                                         title vote_average vote_count  year  \\\n",
       "0                                       Avatar          7.2      11800  2009   \n",
       "0                                       Avatar          7.2      11800  2009   \n",
       "0                                       Avatar          7.2      11800  2009   \n",
       "0                                       Avatar          7.2      11800  2009   \n",
       "1     Pirates of the Caribbean: At World's End          6.9       4500  2007   \n",
       "...                                        ...          ...        ...   ...   \n",
       "4796                                    Primer          6.9        658  2004   \n",
       "4796                                    Primer          6.9        658  2004   \n",
       "4798                               El Mariachi          6.6        238  1992   \n",
       "4798                               El Mariachi          6.6        238  1992   \n",
       "4798                               El Mariachi          6.6        238  1992   \n",
       "\n",
       "      day_of_year  month  \n",
       "0             344     12  \n",
       "0             344     12  \n",
       "0             344     12  \n",
       "0             344     12  \n",
       "1             139      5  \n",
       "...           ...    ...  \n",
       "4796          282     10  \n",
       "4796          282     10  \n",
       "4798          248      9  \n",
       "4798          248      9  \n",
       "4798          248      9  \n",
       "\n",
       "[8509 rows x 23 columns]"
      ]
     },
     "execution_count": 38,
     "metadata": {},
     "output_type": "execute_result"
    }
   ],
   "source": [
    "movies_genres = movies.explode(\"genres\")\n",
    "movies_genres"
   ]
  },
  {
   "cell_type": "code",
   "execution_count": 39,
   "id": "14677df9",
   "metadata": {
    "execution": {
     "iopub.execute_input": "2022-03-22T23:59:28.366780Z",
     "iopub.status.busy": "2022-03-22T23:59:28.366176Z",
     "iopub.status.idle": "2022-03-22T23:59:28.370051Z",
     "shell.execute_reply": "2022-03-22T23:59:28.370510Z",
     "shell.execute_reply.started": "2022-03-22T23:30:57.714773Z"
    },
    "papermill": {
     "duration": 0.065688,
     "end_time": "2022-03-22T23:59:28.370667",
     "exception": false,
     "start_time": "2022-03-22T23:59:28.304979",
     "status": "completed"
    },
    "tags": []
   },
   "outputs": [
    {
     "data": {
      "text/plain": [
       "array(['Action', 'Adventure', 'Fantasy', 'Science Fiction', 'Crime',\n",
       "       'Drama', 'Thriller', 'Animation', 'Family', 'Western', 'Comedy',\n",
       "       'Romance', 'Horror', 'Mystery', 'History', 'War', 'Music',\n",
       "       'Documentary', 'Foreign', nan], dtype=object)"
      ]
     },
     "execution_count": 39,
     "metadata": {},
     "output_type": "execute_result"
    }
   ],
   "source": [
    "movies_genres.genres.unique()"
   ]
  },
  {
   "cell_type": "code",
   "execution_count": 40,
   "id": "84c6e249",
   "metadata": {
    "execution": {
     "iopub.execute_input": "2022-03-22T23:59:28.490597Z",
     "iopub.status.busy": "2022-03-22T23:59:28.490037Z",
     "iopub.status.idle": "2022-03-22T23:59:28.511342Z",
     "shell.execute_reply": "2022-03-22T23:59:28.510883Z",
     "shell.execute_reply.started": "2022-03-22T23:31:47.030939Z"
    },
    "papermill": {
     "duration": 0.085991,
     "end_time": "2022-03-22T23:59:28.511458",
     "exception": false,
     "start_time": "2022-03-22T23:59:28.425467",
     "status": "completed"
    },
    "tags": []
   },
   "outputs": [
    {
     "data": {
      "text/html": [
       "<div>\n",
       "<style scoped>\n",
       "    .dataframe tbody tr th:only-of-type {\n",
       "        vertical-align: middle;\n",
       "    }\n",
       "\n",
       "    .dataframe tbody tr th {\n",
       "        vertical-align: top;\n",
       "    }\n",
       "\n",
       "    .dataframe thead th {\n",
       "        text-align: right;\n",
       "    }\n",
       "</style>\n",
       "<table border=\"1\" class=\"dataframe\">\n",
       "  <thead>\n",
       "    <tr style=\"text-align: right;\">\n",
       "      <th></th>\n",
       "      <th>id</th>\n",
       "    </tr>\n",
       "    <tr>\n",
       "      <th>genres</th>\n",
       "      <th></th>\n",
       "    </tr>\n",
       "  </thead>\n",
       "  <tbody>\n",
       "    <tr>\n",
       "      <th>Drama</th>\n",
       "      <td>1428</td>\n",
       "    </tr>\n",
       "    <tr>\n",
       "      <th>Comedy</th>\n",
       "      <td>1101</td>\n",
       "    </tr>\n",
       "    <tr>\n",
       "      <th>Thriller</th>\n",
       "      <td>930</td>\n",
       "    </tr>\n",
       "    <tr>\n",
       "      <th>Action</th>\n",
       "      <td>915</td>\n",
       "    </tr>\n",
       "    <tr>\n",
       "      <th>Adventure</th>\n",
       "      <td>660</td>\n",
       "    </tr>\n",
       "  </tbody>\n",
       "</table>\n",
       "</div>"
      ],
      "text/plain": [
       "             id\n",
       "genres         \n",
       "Drama      1428\n",
       "Comedy     1101\n",
       "Thriller    930\n",
       "Action      915\n",
       "Adventure   660"
      ]
     },
     "execution_count": 40,
     "metadata": {},
     "output_type": "execute_result"
    }
   ],
   "source": [
    "count_genres = movies_genres.groupby('genres').count()[['id']].sort_values(by='id', ascending=False)\n",
    "count_genres.head()"
   ]
  },
  {
   "cell_type": "code",
   "execution_count": 41,
   "id": "a812fac1",
   "metadata": {
    "execution": {
     "iopub.execute_input": "2022-03-22T23:59:28.625028Z",
     "iopub.status.busy": "2022-03-22T23:59:28.624435Z",
     "iopub.status.idle": "2022-03-22T23:59:28.810674Z",
     "shell.execute_reply": "2022-03-22T23:59:28.811365Z",
     "shell.execute_reply.started": "2022-03-22T23:32:00.230342Z"
    },
    "papermill": {
     "duration": 0.24598,
     "end_time": "2022-03-22T23:59:28.811586",
     "exception": false,
     "start_time": "2022-03-22T23:59:28.565606",
     "status": "completed"
    },
    "tags": []
   },
   "outputs": [
    {
     "data": {
      "image/png": "[encoded data removed]",
      "text/plain": [
       "<Figure size 720x432 with 1 Axes>"
      ]
     },
     "metadata": {},
     "output_type": "display_data"
    }
   ],
   "source": [
    "count_genres.plot(kind ='pie',figsize=(10,6),legend = False, subplots = True)\n",
    "plt.title('Number of movies per genre')\n",
    "plt.show()"
   ]
  },
  {
   "cell_type": "code",
   "execution_count": null,
   "id": "76e3dc90",
   "metadata": {
    "papermill": {
     "duration": 0.087451,
     "end_time": "2022-03-22T23:59:29.002412",
     "exception": false,
     "start_time": "2022-03-22T23:59:28.914961",
     "status": "completed"
    },
    "tags": []
   },
   "outputs": [],
   "source": []
  }
 ],
 "metadata": {
  "kernelspec": {
   "display_name": "Python 3",
   "language": "python",
   "name": "python3"
  },
  "language_info": {
   "codemirror_mode": {
    "name": "ipython",
    "version": 3
   },
   "file_extension": ".py",
   "mimetype": "text/x-python",
   "name": "python",
   "nbconvert_exporter": "python",
   "pygments_lexer": "ipython3",
   "version": "3.7.12"
  },
  "papermill": {
   "default_parameters": {},
   "duration": 21.410556,
   "end_time": "2022-03-22T23:59:29.797960",
   "environment_variables": {},
   "exception": null,
   "input_path": "__notebook__.ipynb",
   "output_path": "__notebook__.ipynb",
   "parameters": {},
   "start_time": "2022-03-22T23:59:08.387404",
   "version": "2.3.3"
  }
 },
 "nbformat": 4,
 "nbformat_minor": 5
}
